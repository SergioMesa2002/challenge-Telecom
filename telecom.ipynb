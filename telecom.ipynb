{
  "nbformat": 4,
  "nbformat_minor": 0,
  "metadata": {
    "colab": {
      "provenance": []
    },
    "kernelspec": {
      "name": "python3",
      "display_name": "Python 3"
    },
    "language_info": {
      "name": "python"
    }
  },
  "cells": [
    {
      "cell_type": "code",
      "execution_count": 1,
      "metadata": {
        "id": "NN1vTjGKP5Fv"
      },
      "outputs": [],
      "source": [
        "import pandas as pd"
      ]
    },
    {
      "cell_type": "code",
      "source": [
        "datos = pd.read_json(\"/content/TelecomX_Data.json\")\n"
      ],
      "metadata": {
        "id": "BBokmnp3Qtyy"
      },
      "execution_count": 2,
      "outputs": []
    },
    {
      "cell_type": "code",
      "source": [
        "print(\"Columnas del dataset y sus tipos:\\n\")\n"
      ],
      "metadata": {
        "colab": {
          "base_uri": "https://localhost:8080/"
        },
        "id": "MNOjwp-FRBRA",
        "outputId": "6d695355-4ce7-49a0-b9a1-ba975db68136"
      },
      "execution_count": 3,
      "outputs": [
        {
          "output_type": "stream",
          "name": "stdout",
          "text": [
            "Columnas del dataset y sus tipos:\n",
            "\n"
          ]
        }
      ]
    },
    {
      "cell_type": "code",
      "source": [
        "print(datos.dtypes)\n"
      ],
      "metadata": {
        "colab": {
          "base_uri": "https://localhost:8080/"
        },
        "id": "I1gnl2vXRfxf",
        "outputId": "dd9bf69a-7cc1-487d-94d2-2e6c9b023ff8"
      },
      "execution_count": 4,
      "outputs": [
        {
          "output_type": "stream",
          "name": "stdout",
          "text": [
            "customerID    object\n",
            "Churn         object\n",
            "customer      object\n",
            "phone         object\n",
            "internet      object\n",
            "account       object\n",
            "dtype: object\n"
          ]
        }
      ]
    },
    {
      "cell_type": "code",
      "source": [
        "print(\"Valores nulos por columna:\\n\")\n",
        "print(datos.isnull().sum())\n"
      ],
      "metadata": {
        "colab": {
          "base_uri": "https://localhost:8080/"
        },
        "id": "400MgOxFS6_O",
        "outputId": "a947f5b1-bfc9-462d-f65c-ff17fe8dbed3"
      },
      "execution_count": 7,
      "outputs": [
        {
          "output_type": "stream",
          "name": "stdout",
          "text": [
            "Valores nulos por columna:\n",
            "\n",
            "customerID    0\n",
            "Churn         0\n",
            "customer      0\n",
            "phone         0\n",
            "internet      0\n",
            "account       0\n",
            "dtype: int64\n"
          ]
        }
      ]
    },
    {
      "cell_type": "code",
      "source": [
        "from pandas import json_normalize\n"
      ],
      "metadata": {
        "id": "MmyiO4gmTKni"
      },
      "execution_count": 10,
      "outputs": []
    },
    {
      "cell_type": "code",
      "source": [
        "datos = json_normalize(datos.to_dict(orient=\"records\"))\n"
      ],
      "metadata": {
        "id": "t50koS9CT5qJ"
      },
      "execution_count": 11,
      "outputs": []
    },
    {
      "cell_type": "code",
      "source": [
        "print(datos.dtypes)\n"
      ],
      "metadata": {
        "colab": {
          "base_uri": "https://localhost:8080/"
        },
        "id": "qr6xFzExUCpk",
        "outputId": "8b039447-9a4b-4938-84d2-4bfd12b361be"
      },
      "execution_count": 12,
      "outputs": [
        {
          "output_type": "stream",
          "name": "stdout",
          "text": [
            "customerID                    object\n",
            "Churn                         object\n",
            "customer.gender               object\n",
            "customer.SeniorCitizen         int64\n",
            "customer.Partner              object\n",
            "customer.Dependents           object\n",
            "customer.tenure                int64\n",
            "phone.PhoneService            object\n",
            "phone.MultipleLines           object\n",
            "internet.InternetService      object\n",
            "internet.OnlineSecurity       object\n",
            "internet.OnlineBackup         object\n",
            "internet.DeviceProtection     object\n",
            "internet.TechSupport          object\n",
            "internet.StreamingTV          object\n",
            "internet.StreamingMovies      object\n",
            "account.Contract              object\n",
            "account.PaperlessBilling      object\n",
            "account.PaymentMethod         object\n",
            "account.Charges.Monthly      float64\n",
            "account.Charges.Total         object\n",
            "dtype: object\n"
          ]
        }
      ]
    },
    {
      "cell_type": "code",
      "source": [
        "print(datos.columns.tolist())\n"
      ],
      "metadata": {
        "colab": {
          "base_uri": "https://localhost:8080/"
        },
        "id": "NoevZt9yUtht",
        "outputId": "49225c18-7f32-48e8-f031-ab4c1460ad57"
      },
      "execution_count": 14,
      "outputs": [
        {
          "output_type": "stream",
          "name": "stdout",
          "text": [
            "['customerID', 'Churn', 'customer.gender', 'customer.SeniorCitizen', 'customer.Partner', 'customer.Dependents', 'customer.tenure', 'phone.PhoneService', 'phone.MultipleLines', 'internet.InternetService', 'internet.OnlineSecurity', 'internet.OnlineBackup', 'internet.DeviceProtection', 'internet.TechSupport', 'internet.StreamingTV', 'internet.StreamingMovies', 'account.Contract', 'account.PaperlessBilling', 'account.PaymentMethod', 'account.Charges.Monthly', 'account.Charges.Total']\n"
          ]
        }
      ]
    },
    {
      "cell_type": "code",
      "source": [
        "datos[\"Cuentas_Diarias\"] = datos[\"account.Charges.Monthly\"] / 30\n"
      ],
      "metadata": {
        "id": "D_CSeDGBWfeJ"
      },
      "execution_count": 15,
      "outputs": []
    },
    {
      "cell_type": "markdown",
      "source": [
        "Ajuste para crear Cuentas_Diarias\n",
        "\n",
        "Si por ejemplo aparece como account.Charges.Monthly, entonces:\n",
        "\n",
        "# Usar el nombre real de la columna\n",
        "datos[\"Cuentas_Diarias\"] = datos[\"account.Charges.Monthly\"] / 30\n",
        "\n",
        "# Verificar\n",
        "print(datos[[\"account.Charges.Monthly\", \"Cuentas_Diarias\"]].head())\n"
      ],
      "metadata": {
        "id": "AcEWkj7NXZw9"
      }
    },
    {
      "cell_type": "code",
      "source": [
        "print(datos[[\"account.Charges.Monthly\", \"Cuentas_Diarias\"]].head())\n"
      ],
      "metadata": {
        "colab": {
          "base_uri": "https://localhost:8080/"
        },
        "id": "gdkj1yk-XGIy",
        "outputId": "38bdc4ed-3871-4bea-fab9-e5c08436c528"
      },
      "execution_count": 16,
      "outputs": [
        {
          "output_type": "stream",
          "name": "stdout",
          "text": [
            "   account.Charges.Monthly  Cuentas_Diarias\n",
            "0                     65.6         2.186667\n",
            "1                     59.9         1.996667\n",
            "2                     73.9         2.463333\n",
            "3                     98.0         3.266667\n",
            "4                     83.9         2.796667\n"
          ]
        }
      ]
    },
    {
      "cell_type": "code",
      "source": [
        "# Quitar prefijos de los nombres de columnas\n",
        "datos.columns = datos.columns.str.replace('customer.', '', regex=False)\n",
        "datos.columns = datos.columns.str.replace('phone.', '', regex=False)\n",
        "datos.columns = datos.columns.str.replace('internet.', '', regex=False)\n",
        "datos.columns = datos.columns.str.replace('account.', '', regex=False)\n",
        "\n",
        "# Verificar columnas después del cambio\n",
        "print(datos.columns.tolist())\n"
      ],
      "metadata": {
        "colab": {
          "base_uri": "https://localhost:8080/"
        },
        "id": "ysS7ruC4YuDe",
        "outputId": "70da2121-344b-4bbd-f85d-052b88138a0f"
      },
      "execution_count": 17,
      "outputs": [
        {
          "output_type": "stream",
          "name": "stdout",
          "text": [
            "['customerID', 'Churn', 'gender', 'SeniorCitizen', 'Partner', 'Dependents', 'tenure', 'PhoneService', 'MultipleLines', 'InternetService', 'OnlineSecurity', 'OnlineBackup', 'DeviceProtection', 'TechSupport', 'StreamingTV', 'StreamingMovies', 'Contract', 'PaperlessBilling', 'PaymentMethod', 'Charges.Monthly', 'Charges.Total', 'Cuentas_Diarias']\n"
          ]
        }
      ]
    },
    {
      "cell_type": "code",
      "source": [
        "datos[\"Cuentas_Diarias\"] = datos[\"Charges.Monthly\"] / 30\n",
        "print(datos[[\"Charges.Monthly\", \"Cuentas_Diarias\"]].head())\n"
      ],
      "metadata": {
        "colab": {
          "base_uri": "https://localhost:8080/"
        },
        "id": "igm4cuELY3QJ",
        "outputId": "54e53ed1-e77e-49df-8f90-3a341eef050b"
      },
      "execution_count": 19,
      "outputs": [
        {
          "output_type": "stream",
          "name": "stdout",
          "text": [
            "   Charges.Monthly  Cuentas_Diarias\n",
            "0             65.6         2.186667\n",
            "1             59.9         1.996667\n",
            "2             73.9         2.463333\n",
            "3             98.0         3.266667\n",
            "4             83.9         2.796667\n"
          ]
        }
      ]
    },
    {
      "cell_type": "markdown",
      "source": [
        "La estandarización y transformación de datos es una etapa opcional, pero altamente recomendada, ya que busca hacer que la información sea más consistente, comprensible y adecuada para el análisis. Durante esta fase, por ejemplo, puedes convertir valores textuales como \"Sí\" y \"No\" en valores binarios (1 y 0), lo que facilita el procesamiento matemático y la aplicación de modelos analíticos.\n",
        "\n",
        "Además, traducir o renombrar columnas y datos hace que la información sea más accesible y fácil de entender, especialmente cuando se trabaja con fuentes externas o términos técnicos. Aunque no es un paso obligatorio, puede mejorar significativamente la claridad y comunicación de los resultados, facilitando la interpretación y evitando confusiones, especialmente al compartir información con stakeholders no técnicos."
      ],
      "metadata": {
        "id": "AOTfW31YZTmK"
      }
    },
    {
      "cell_type": "code",
      "source": [
        "# 1. Convertir Sí/No a binario\n",
        "cols_binarias = [\n",
        "    'Partner', 'Dependents', 'PhoneService', 'MultipleLines',\n",
        "    'OnlineSecurity', 'OnlineBackup', 'DeviceProtection',\n",
        "    'TechSupport', 'StreamingTV', 'StreamingMovies', 'PaperlessBilling', 'Churn'\n",
        "]\n",
        "\n",
        "for col in cols_binarias:\n",
        "    if col in datos.columns:\n",
        "        datos[col] = datos[col].replace({'Yes': 1, 'No': 0, 'Sí': 1, 'No': 0})\n"
      ],
      "metadata": {
        "colab": {
          "base_uri": "https://localhost:8080/"
        },
        "id": "67BFf_36ZU7s",
        "outputId": "43aacc98-f6cc-4f10-e934-10d0b4256f56"
      },
      "execution_count": 21,
      "outputs": [
        {
          "output_type": "stream",
          "name": "stderr",
          "text": [
            "/tmp/ipython-input-2651301465.py:10: FutureWarning: Downcasting behavior in `replace` is deprecated and will be removed in a future version. To retain the old behavior, explicitly call `result.infer_objects(copy=False)`. To opt-in to the future behavior, set `pd.set_option('future.no_silent_downcasting', True)`\n",
            "  datos[col] = datos[col].replace({'Yes': 1, 'No': 0, 'Sí': 1, 'No': 0})\n"
          ]
        }
      ]
    },
    {
      "cell_type": "markdown",
      "source": [
        "# 2. Unificar valores de servicio inexistente a 0\n",
        "valores_no_servicio = ['No internet service', 'No phone service']\n",
        "for col in datos.columns:\n",
        "    if datos[col].dtype == 'object':\n",
        "        datos[col] = datos[col].replace(valores_no_servicio, 'No')"
      ],
      "metadata": {
        "id": "MmkaBXS6Ze_n"
      }
    },
    {
      "cell_type": "code",
      "source": [
        "valores_no_servicio = ['No internet service', 'No phone service']\n",
        "for col in datos.columns:\n",
        "    if datos[col].dtype == 'object':\n",
        "        datos[col] = datos[col].replace(valores_no_servicio, 'No')"
      ],
      "metadata": {
        "id": "tXKLLttuZwVd"
      },
      "execution_count": 22,
      "outputs": []
    },
    {
      "cell_type": "markdown",
      "source": [
        "# 3. Traducir/renombrar columnas clave\n",
        "renombres = {\n",
        "    'tenure': 'Meses_Contrato',\n",
        "    'Charges.Monthly': 'Factura_Mensual',\n",
        "    'Charges.Total': 'Factura_Total',\n",
        "    'Cuentas_Diarias': 'Factura_Diaria'\n",
        "}\n",
        "datos.rename(columns=renombres, inplace=True)"
      ],
      "metadata": {
        "id": "2jV7MVNNaFLp"
      }
    },
    {
      "cell_type": "code",
      "source": [
        "# 3. Traducir/renombrar columnas clave\n",
        "renombres = {\n",
        "    'tenure': 'Meses_Contrato',\n",
        "    'Charges.Monthly': 'Factura_Mensual',\n",
        "    'Charges.Total': 'Factura_Total',\n",
        "    'Cuentas_Diarias': 'Factura_Diaria'\n",
        "}\n",
        "datos.rename(columns=renombres, inplace=True)"
      ],
      "metadata": {
        "id": "7OUq8UUXaHmM"
      },
      "execution_count": 23,
      "outputs": []
    },
    {
      "cell_type": "code",
      "source": [
        "print(datos.head())\n"
      ],
      "metadata": {
        "colab": {
          "base_uri": "https://localhost:8080/"
        },
        "id": "oP1UYAyNaQIa",
        "outputId": "1de5afdb-1f33-4839-ab0c-292739fed793"
      },
      "execution_count": 24,
      "outputs": [
        {
          "output_type": "stream",
          "name": "stdout",
          "text": [
            "   customerID Churn  gender  SeniorCitizen  Partner  Dependents  \\\n",
            "0  0002-ORFBO     0  Female              0        1           1   \n",
            "1  0003-MKNFE     0    Male              0        0           0   \n",
            "2  0004-TLHLJ     1    Male              0        0           0   \n",
            "3  0011-IGKFF     1    Male              1        1           0   \n",
            "4  0013-EXCHZ     1  Female              1        1           0   \n",
            "\n",
            "   Meses_Contrato  PhoneService MultipleLines InternetService  ...  \\\n",
            "0               9             1             0             DSL  ...   \n",
            "1               9             1             1             DSL  ...   \n",
            "2               4             1             0     Fiber optic  ...   \n",
            "3              13             1             0     Fiber optic  ...   \n",
            "4               3             1             0     Fiber optic  ...   \n",
            "\n",
            "  DeviceProtection TechSupport StreamingTV StreamingMovies        Contract  \\\n",
            "0                0           1           1               0        One year   \n",
            "1                0           0           0               1  Month-to-month   \n",
            "2                1           0           0               0  Month-to-month   \n",
            "3                1           0           1               1  Month-to-month   \n",
            "4                0           1           1               0  Month-to-month   \n",
            "\n",
            "  PaperlessBilling     PaymentMethod  Factura_Mensual Factura_Total  \\\n",
            "0                1      Mailed check             65.6         593.3   \n",
            "1                0      Mailed check             59.9         542.4   \n",
            "2                1  Electronic check             73.9        280.85   \n",
            "3                1  Electronic check             98.0       1237.85   \n",
            "4                1      Mailed check             83.9         267.4   \n",
            "\n",
            "   Factura_Diaria  \n",
            "0        2.186667  \n",
            "1        1.996667  \n",
            "2        2.463333  \n",
            "3        3.266667  \n",
            "4        2.796667  \n",
            "\n",
            "[5 rows x 22 columns]\n"
          ]
        }
      ]
    },
    {
      "cell_type": "markdown",
      "source": [
        "# Ajustar Pandas para mostrar más columnas\n",
        "pd.set_option('display.max_columns', None)\n",
        "pd.set_option('display.width', 1000)\n",
        "\n",
        "# Mostrar las primeras filas\n",
        "datos.head(10)\n",
        "\n",
        "\n",
        "1.   Elemento de lista\n",
        "2.   Elemento de lista\n",
        "\n"
      ],
      "metadata": {
        "id": "6d56fNa1asGv"
      }
    },
    {
      "cell_type": "code",
      "source": [
        "# Ajustar Pandas para mostrar más columnas\n",
        "pd.set_option('display.max_columns', None)\n",
        "pd.set_option('display.width', 1000)\n",
        "\n",
        "# Mostrar las primeras filas\n",
        "datos.head(10)\n"
      ],
      "metadata": {
        "colab": {
          "base_uri": "https://localhost:8080/",
          "height": 539
        },
        "id": "CDnMN7fgaxJb",
        "outputId": "ca5d09e6-bc99-4aff-98c6-c966bdc62c0e"
      },
      "execution_count": 25,
      "outputs": [
        {
          "output_type": "execute_result",
          "data": {
            "text/plain": [
              "   customerID Churn  gender  SeniorCitizen  Partner  Dependents  Meses_Contrato  PhoneService MultipleLines InternetService OnlineSecurity OnlineBackup DeviceProtection TechSupport StreamingTV StreamingMovies        Contract  PaperlessBilling              PaymentMethod  Factura_Mensual Factura_Total  Factura_Diaria\n",
              "0  0002-ORFBO     0  Female              0        1           1               9             1             0             DSL              0            1                0           1           1               0        One year                 1               Mailed check            65.60         593.3        2.186667\n",
              "1  0003-MKNFE     0    Male              0        0           0               9             1             1             DSL              0            0                0           0           0               1  Month-to-month                 0               Mailed check            59.90         542.4        1.996667\n",
              "2  0004-TLHLJ     1    Male              0        0           0               4             1             0     Fiber optic              0            0                1           0           0               0  Month-to-month                 1           Electronic check            73.90        280.85        2.463333\n",
              "3  0011-IGKFF     1    Male              1        1           0              13             1             0     Fiber optic              0            1                1           0           1               1  Month-to-month                 1           Electronic check            98.00       1237.85        3.266667\n",
              "4  0013-EXCHZ     1  Female              1        1           0               3             1             0     Fiber optic              0            0                0           1           1               0  Month-to-month                 1               Mailed check            83.90         267.4        2.796667\n",
              "5  0013-MHZWF     0  Female              0        0           1               9             1             0             DSL              0            0                0           1           1               1  Month-to-month                 1    Credit card (automatic)            69.40        571.45        2.313333\n",
              "6  0013-SMEOE     0  Female              1        1           0              71             1             0     Fiber optic              1            1                1           1           1               1        Two year                 1  Bank transfer (automatic)           109.70       7904.25        3.656667\n",
              "7  0014-BMAQU     0    Male              0        1           0              63             1             1     Fiber optic              1            0                0           1           0               0        Two year                 1    Credit card (automatic)            84.65        5377.8        2.821667\n",
              "8  0015-UOCOJ     0  Female              1        0           0               7             1             0             DSL              1            0                0           0           0               0  Month-to-month                 1           Electronic check            48.20        340.35        1.606667\n",
              "9  0016-QLJIS     0  Female              0        1           1              65             1             1             DSL              1            1                1           1           1               1        Two year                 1               Mailed check            90.45        5957.9        3.015000"
            ],
            "text/html": [
              "\n",
              "  <div id=\"df-6b71c851-516c-4478-9781-611cc592f901\" class=\"colab-df-container\">\n",
              "    <div>\n",
              "<style scoped>\n",
              "    .dataframe tbody tr th:only-of-type {\n",
              "        vertical-align: middle;\n",
              "    }\n",
              "\n",
              "    .dataframe tbody tr th {\n",
              "        vertical-align: top;\n",
              "    }\n",
              "\n",
              "    .dataframe thead th {\n",
              "        text-align: right;\n",
              "    }\n",
              "</style>\n",
              "<table border=\"1\" class=\"dataframe\">\n",
              "  <thead>\n",
              "    <tr style=\"text-align: right;\">\n",
              "      <th></th>\n",
              "      <th>customerID</th>\n",
              "      <th>Churn</th>\n",
              "      <th>gender</th>\n",
              "      <th>SeniorCitizen</th>\n",
              "      <th>Partner</th>\n",
              "      <th>Dependents</th>\n",
              "      <th>Meses_Contrato</th>\n",
              "      <th>PhoneService</th>\n",
              "      <th>MultipleLines</th>\n",
              "      <th>InternetService</th>\n",
              "      <th>OnlineSecurity</th>\n",
              "      <th>OnlineBackup</th>\n",
              "      <th>DeviceProtection</th>\n",
              "      <th>TechSupport</th>\n",
              "      <th>StreamingTV</th>\n",
              "      <th>StreamingMovies</th>\n",
              "      <th>Contract</th>\n",
              "      <th>PaperlessBilling</th>\n",
              "      <th>PaymentMethod</th>\n",
              "      <th>Factura_Mensual</th>\n",
              "      <th>Factura_Total</th>\n",
              "      <th>Factura_Diaria</th>\n",
              "    </tr>\n",
              "  </thead>\n",
              "  <tbody>\n",
              "    <tr>\n",
              "      <th>0</th>\n",
              "      <td>0002-ORFBO</td>\n",
              "      <td>0</td>\n",
              "      <td>Female</td>\n",
              "      <td>0</td>\n",
              "      <td>1</td>\n",
              "      <td>1</td>\n",
              "      <td>9</td>\n",
              "      <td>1</td>\n",
              "      <td>0</td>\n",
              "      <td>DSL</td>\n",
              "      <td>0</td>\n",
              "      <td>1</td>\n",
              "      <td>0</td>\n",
              "      <td>1</td>\n",
              "      <td>1</td>\n",
              "      <td>0</td>\n",
              "      <td>One year</td>\n",
              "      <td>1</td>\n",
              "      <td>Mailed check</td>\n",
              "      <td>65.60</td>\n",
              "      <td>593.3</td>\n",
              "      <td>2.186667</td>\n",
              "    </tr>\n",
              "    <tr>\n",
              "      <th>1</th>\n",
              "      <td>0003-MKNFE</td>\n",
              "      <td>0</td>\n",
              "      <td>Male</td>\n",
              "      <td>0</td>\n",
              "      <td>0</td>\n",
              "      <td>0</td>\n",
              "      <td>9</td>\n",
              "      <td>1</td>\n",
              "      <td>1</td>\n",
              "      <td>DSL</td>\n",
              "      <td>0</td>\n",
              "      <td>0</td>\n",
              "      <td>0</td>\n",
              "      <td>0</td>\n",
              "      <td>0</td>\n",
              "      <td>1</td>\n",
              "      <td>Month-to-month</td>\n",
              "      <td>0</td>\n",
              "      <td>Mailed check</td>\n",
              "      <td>59.90</td>\n",
              "      <td>542.4</td>\n",
              "      <td>1.996667</td>\n",
              "    </tr>\n",
              "    <tr>\n",
              "      <th>2</th>\n",
              "      <td>0004-TLHLJ</td>\n",
              "      <td>1</td>\n",
              "      <td>Male</td>\n",
              "      <td>0</td>\n",
              "      <td>0</td>\n",
              "      <td>0</td>\n",
              "      <td>4</td>\n",
              "      <td>1</td>\n",
              "      <td>0</td>\n",
              "      <td>Fiber optic</td>\n",
              "      <td>0</td>\n",
              "      <td>0</td>\n",
              "      <td>1</td>\n",
              "      <td>0</td>\n",
              "      <td>0</td>\n",
              "      <td>0</td>\n",
              "      <td>Month-to-month</td>\n",
              "      <td>1</td>\n",
              "      <td>Electronic check</td>\n",
              "      <td>73.90</td>\n",
              "      <td>280.85</td>\n",
              "      <td>2.463333</td>\n",
              "    </tr>\n",
              "    <tr>\n",
              "      <th>3</th>\n",
              "      <td>0011-IGKFF</td>\n",
              "      <td>1</td>\n",
              "      <td>Male</td>\n",
              "      <td>1</td>\n",
              "      <td>1</td>\n",
              "      <td>0</td>\n",
              "      <td>13</td>\n",
              "      <td>1</td>\n",
              "      <td>0</td>\n",
              "      <td>Fiber optic</td>\n",
              "      <td>0</td>\n",
              "      <td>1</td>\n",
              "      <td>1</td>\n",
              "      <td>0</td>\n",
              "      <td>1</td>\n",
              "      <td>1</td>\n",
              "      <td>Month-to-month</td>\n",
              "      <td>1</td>\n",
              "      <td>Electronic check</td>\n",
              "      <td>98.00</td>\n",
              "      <td>1237.85</td>\n",
              "      <td>3.266667</td>\n",
              "    </tr>\n",
              "    <tr>\n",
              "      <th>4</th>\n",
              "      <td>0013-EXCHZ</td>\n",
              "      <td>1</td>\n",
              "      <td>Female</td>\n",
              "      <td>1</td>\n",
              "      <td>1</td>\n",
              "      <td>0</td>\n",
              "      <td>3</td>\n",
              "      <td>1</td>\n",
              "      <td>0</td>\n",
              "      <td>Fiber optic</td>\n",
              "      <td>0</td>\n",
              "      <td>0</td>\n",
              "      <td>0</td>\n",
              "      <td>1</td>\n",
              "      <td>1</td>\n",
              "      <td>0</td>\n",
              "      <td>Month-to-month</td>\n",
              "      <td>1</td>\n",
              "      <td>Mailed check</td>\n",
              "      <td>83.90</td>\n",
              "      <td>267.4</td>\n",
              "      <td>2.796667</td>\n",
              "    </tr>\n",
              "    <tr>\n",
              "      <th>5</th>\n",
              "      <td>0013-MHZWF</td>\n",
              "      <td>0</td>\n",
              "      <td>Female</td>\n",
              "      <td>0</td>\n",
              "      <td>0</td>\n",
              "      <td>1</td>\n",
              "      <td>9</td>\n",
              "      <td>1</td>\n",
              "      <td>0</td>\n",
              "      <td>DSL</td>\n",
              "      <td>0</td>\n",
              "      <td>0</td>\n",
              "      <td>0</td>\n",
              "      <td>1</td>\n",
              "      <td>1</td>\n",
              "      <td>1</td>\n",
              "      <td>Month-to-month</td>\n",
              "      <td>1</td>\n",
              "      <td>Credit card (automatic)</td>\n",
              "      <td>69.40</td>\n",
              "      <td>571.45</td>\n",
              "      <td>2.313333</td>\n",
              "    </tr>\n",
              "    <tr>\n",
              "      <th>6</th>\n",
              "      <td>0013-SMEOE</td>\n",
              "      <td>0</td>\n",
              "      <td>Female</td>\n",
              "      <td>1</td>\n",
              "      <td>1</td>\n",
              "      <td>0</td>\n",
              "      <td>71</td>\n",
              "      <td>1</td>\n",
              "      <td>0</td>\n",
              "      <td>Fiber optic</td>\n",
              "      <td>1</td>\n",
              "      <td>1</td>\n",
              "      <td>1</td>\n",
              "      <td>1</td>\n",
              "      <td>1</td>\n",
              "      <td>1</td>\n",
              "      <td>Two year</td>\n",
              "      <td>1</td>\n",
              "      <td>Bank transfer (automatic)</td>\n",
              "      <td>109.70</td>\n",
              "      <td>7904.25</td>\n",
              "      <td>3.656667</td>\n",
              "    </tr>\n",
              "    <tr>\n",
              "      <th>7</th>\n",
              "      <td>0014-BMAQU</td>\n",
              "      <td>0</td>\n",
              "      <td>Male</td>\n",
              "      <td>0</td>\n",
              "      <td>1</td>\n",
              "      <td>0</td>\n",
              "      <td>63</td>\n",
              "      <td>1</td>\n",
              "      <td>1</td>\n",
              "      <td>Fiber optic</td>\n",
              "      <td>1</td>\n",
              "      <td>0</td>\n",
              "      <td>0</td>\n",
              "      <td>1</td>\n",
              "      <td>0</td>\n",
              "      <td>0</td>\n",
              "      <td>Two year</td>\n",
              "      <td>1</td>\n",
              "      <td>Credit card (automatic)</td>\n",
              "      <td>84.65</td>\n",
              "      <td>5377.8</td>\n",
              "      <td>2.821667</td>\n",
              "    </tr>\n",
              "    <tr>\n",
              "      <th>8</th>\n",
              "      <td>0015-UOCOJ</td>\n",
              "      <td>0</td>\n",
              "      <td>Female</td>\n",
              "      <td>1</td>\n",
              "      <td>0</td>\n",
              "      <td>0</td>\n",
              "      <td>7</td>\n",
              "      <td>1</td>\n",
              "      <td>0</td>\n",
              "      <td>DSL</td>\n",
              "      <td>1</td>\n",
              "      <td>0</td>\n",
              "      <td>0</td>\n",
              "      <td>0</td>\n",
              "      <td>0</td>\n",
              "      <td>0</td>\n",
              "      <td>Month-to-month</td>\n",
              "      <td>1</td>\n",
              "      <td>Electronic check</td>\n",
              "      <td>48.20</td>\n",
              "      <td>340.35</td>\n",
              "      <td>1.606667</td>\n",
              "    </tr>\n",
              "    <tr>\n",
              "      <th>9</th>\n",
              "      <td>0016-QLJIS</td>\n",
              "      <td>0</td>\n",
              "      <td>Female</td>\n",
              "      <td>0</td>\n",
              "      <td>1</td>\n",
              "      <td>1</td>\n",
              "      <td>65</td>\n",
              "      <td>1</td>\n",
              "      <td>1</td>\n",
              "      <td>DSL</td>\n",
              "      <td>1</td>\n",
              "      <td>1</td>\n",
              "      <td>1</td>\n",
              "      <td>1</td>\n",
              "      <td>1</td>\n",
              "      <td>1</td>\n",
              "      <td>Two year</td>\n",
              "      <td>1</td>\n",
              "      <td>Mailed check</td>\n",
              "      <td>90.45</td>\n",
              "      <td>5957.9</td>\n",
              "      <td>3.015000</td>\n",
              "    </tr>\n",
              "  </tbody>\n",
              "</table>\n",
              "</div>\n",
              "    <div class=\"colab-df-buttons\">\n",
              "\n",
              "  <div class=\"colab-df-container\">\n",
              "    <button class=\"colab-df-convert\" onclick=\"convertToInteractive('df-6b71c851-516c-4478-9781-611cc592f901')\"\n",
              "            title=\"Convert this dataframe to an interactive table.\"\n",
              "            style=\"display:none;\">\n",
              "\n",
              "  <svg xmlns=\"http://www.w3.org/2000/svg\" height=\"24px\" viewBox=\"0 -960 960 960\">\n",
              "    <path d=\"M120-120v-720h720v720H120Zm60-500h600v-160H180v160Zm220 220h160v-160H400v160Zm0 220h160v-160H400v160ZM180-400h160v-160H180v160Zm440 0h160v-160H620v160ZM180-180h160v-160H180v160Zm440 0h160v-160H620v160Z\"/>\n",
              "  </svg>\n",
              "    </button>\n",
              "\n",
              "  <style>\n",
              "    .colab-df-container {\n",
              "      display:flex;\n",
              "      gap: 12px;\n",
              "    }\n",
              "\n",
              "    .colab-df-convert {\n",
              "      background-color: #E8F0FE;\n",
              "      border: none;\n",
              "      border-radius: 50%;\n",
              "      cursor: pointer;\n",
              "      display: none;\n",
              "      fill: #1967D2;\n",
              "      height: 32px;\n",
              "      padding: 0 0 0 0;\n",
              "      width: 32px;\n",
              "    }\n",
              "\n",
              "    .colab-df-convert:hover {\n",
              "      background-color: #E2EBFA;\n",
              "      box-shadow: 0px 1px 2px rgba(60, 64, 67, 0.3), 0px 1px 3px 1px rgba(60, 64, 67, 0.15);\n",
              "      fill: #174EA6;\n",
              "    }\n",
              "\n",
              "    .colab-df-buttons div {\n",
              "      margin-bottom: 4px;\n",
              "    }\n",
              "\n",
              "    [theme=dark] .colab-df-convert {\n",
              "      background-color: #3B4455;\n",
              "      fill: #D2E3FC;\n",
              "    }\n",
              "\n",
              "    [theme=dark] .colab-df-convert:hover {\n",
              "      background-color: #434B5C;\n",
              "      box-shadow: 0px 1px 3px 1px rgba(0, 0, 0, 0.15);\n",
              "      filter: drop-shadow(0px 1px 2px rgba(0, 0, 0, 0.3));\n",
              "      fill: #FFFFFF;\n",
              "    }\n",
              "  </style>\n",
              "\n",
              "    <script>\n",
              "      const buttonEl =\n",
              "        document.querySelector('#df-6b71c851-516c-4478-9781-611cc592f901 button.colab-df-convert');\n",
              "      buttonEl.style.display =\n",
              "        google.colab.kernel.accessAllowed ? 'block' : 'none';\n",
              "\n",
              "      async function convertToInteractive(key) {\n",
              "        const element = document.querySelector('#df-6b71c851-516c-4478-9781-611cc592f901');\n",
              "        const dataTable =\n",
              "          await google.colab.kernel.invokeFunction('convertToInteractive',\n",
              "                                                    [key], {});\n",
              "        if (!dataTable) return;\n",
              "\n",
              "        const docLinkHtml = 'Like what you see? Visit the ' +\n",
              "          '<a target=\"_blank\" href=https://colab.research.google.com/notebooks/data_table.ipynb>data table notebook</a>'\n",
              "          + ' to learn more about interactive tables.';\n",
              "        element.innerHTML = '';\n",
              "        dataTable['output_type'] = 'display_data';\n",
              "        await google.colab.output.renderOutput(dataTable, element);\n",
              "        const docLink = document.createElement('div');\n",
              "        docLink.innerHTML = docLinkHtml;\n",
              "        element.appendChild(docLink);\n",
              "      }\n",
              "    </script>\n",
              "  </div>\n",
              "\n",
              "\n",
              "    <div id=\"df-fc1d3f5b-2b80-4d48-8a9c-16c53ddb2e33\">\n",
              "      <button class=\"colab-df-quickchart\" onclick=\"quickchart('df-fc1d3f5b-2b80-4d48-8a9c-16c53ddb2e33')\"\n",
              "                title=\"Suggest charts\"\n",
              "                style=\"display:none;\">\n",
              "\n",
              "<svg xmlns=\"http://www.w3.org/2000/svg\" height=\"24px\"viewBox=\"0 0 24 24\"\n",
              "     width=\"24px\">\n",
              "    <g>\n",
              "        <path d=\"M19 3H5c-1.1 0-2 .9-2 2v14c0 1.1.9 2 2 2h14c1.1 0 2-.9 2-2V5c0-1.1-.9-2-2-2zM9 17H7v-7h2v7zm4 0h-2V7h2v10zm4 0h-2v-4h2v4z\"/>\n",
              "    </g>\n",
              "</svg>\n",
              "      </button>\n",
              "\n",
              "<style>\n",
              "  .colab-df-quickchart {\n",
              "      --bg-color: #E8F0FE;\n",
              "      --fill-color: #1967D2;\n",
              "      --hover-bg-color: #E2EBFA;\n",
              "      --hover-fill-color: #174EA6;\n",
              "      --disabled-fill-color: #AAA;\n",
              "      --disabled-bg-color: #DDD;\n",
              "  }\n",
              "\n",
              "  [theme=dark] .colab-df-quickchart {\n",
              "      --bg-color: #3B4455;\n",
              "      --fill-color: #D2E3FC;\n",
              "      --hover-bg-color: #434B5C;\n",
              "      --hover-fill-color: #FFFFFF;\n",
              "      --disabled-bg-color: #3B4455;\n",
              "      --disabled-fill-color: #666;\n",
              "  }\n",
              "\n",
              "  .colab-df-quickchart {\n",
              "    background-color: var(--bg-color);\n",
              "    border: none;\n",
              "    border-radius: 50%;\n",
              "    cursor: pointer;\n",
              "    display: none;\n",
              "    fill: var(--fill-color);\n",
              "    height: 32px;\n",
              "    padding: 0;\n",
              "    width: 32px;\n",
              "  }\n",
              "\n",
              "  .colab-df-quickchart:hover {\n",
              "    background-color: var(--hover-bg-color);\n",
              "    box-shadow: 0 1px 2px rgba(60, 64, 67, 0.3), 0 1px 3px 1px rgba(60, 64, 67, 0.15);\n",
              "    fill: var(--button-hover-fill-color);\n",
              "  }\n",
              "\n",
              "  .colab-df-quickchart-complete:disabled,\n",
              "  .colab-df-quickchart-complete:disabled:hover {\n",
              "    background-color: var(--disabled-bg-color);\n",
              "    fill: var(--disabled-fill-color);\n",
              "    box-shadow: none;\n",
              "  }\n",
              "\n",
              "  .colab-df-spinner {\n",
              "    border: 2px solid var(--fill-color);\n",
              "    border-color: transparent;\n",
              "    border-bottom-color: var(--fill-color);\n",
              "    animation:\n",
              "      spin 1s steps(1) infinite;\n",
              "  }\n",
              "\n",
              "  @keyframes spin {\n",
              "    0% {\n",
              "      border-color: transparent;\n",
              "      border-bottom-color: var(--fill-color);\n",
              "      border-left-color: var(--fill-color);\n",
              "    }\n",
              "    20% {\n",
              "      border-color: transparent;\n",
              "      border-left-color: var(--fill-color);\n",
              "      border-top-color: var(--fill-color);\n",
              "    }\n",
              "    30% {\n",
              "      border-color: transparent;\n",
              "      border-left-color: var(--fill-color);\n",
              "      border-top-color: var(--fill-color);\n",
              "      border-right-color: var(--fill-color);\n",
              "    }\n",
              "    40% {\n",
              "      border-color: transparent;\n",
              "      border-right-color: var(--fill-color);\n",
              "      border-top-color: var(--fill-color);\n",
              "    }\n",
              "    60% {\n",
              "      border-color: transparent;\n",
              "      border-right-color: var(--fill-color);\n",
              "    }\n",
              "    80% {\n",
              "      border-color: transparent;\n",
              "      border-right-color: var(--fill-color);\n",
              "      border-bottom-color: var(--fill-color);\n",
              "    }\n",
              "    90% {\n",
              "      border-color: transparent;\n",
              "      border-bottom-color: var(--fill-color);\n",
              "    }\n",
              "  }\n",
              "</style>\n",
              "\n",
              "      <script>\n",
              "        async function quickchart(key) {\n",
              "          const quickchartButtonEl =\n",
              "            document.querySelector('#' + key + ' button');\n",
              "          quickchartButtonEl.disabled = true;  // To prevent multiple clicks.\n",
              "          quickchartButtonEl.classList.add('colab-df-spinner');\n",
              "          try {\n",
              "            const charts = await google.colab.kernel.invokeFunction(\n",
              "                'suggestCharts', [key], {});\n",
              "          } catch (error) {\n",
              "            console.error('Error during call to suggestCharts:', error);\n",
              "          }\n",
              "          quickchartButtonEl.classList.remove('colab-df-spinner');\n",
              "          quickchartButtonEl.classList.add('colab-df-quickchart-complete');\n",
              "        }\n",
              "        (() => {\n",
              "          let quickchartButtonEl =\n",
              "            document.querySelector('#df-fc1d3f5b-2b80-4d48-8a9c-16c53ddb2e33 button');\n",
              "          quickchartButtonEl.style.display =\n",
              "            google.colab.kernel.accessAllowed ? 'block' : 'none';\n",
              "        })();\n",
              "      </script>\n",
              "    </div>\n",
              "\n",
              "    </div>\n",
              "  </div>\n"
            ],
            "application/vnd.google.colaboratory.intrinsic+json": {
              "type": "dataframe",
              "variable_name": "datos"
            }
          },
          "metadata": {},
          "execution_count": 25
        }
      ]
    },
    {
      "cell_type": "markdown",
      "source": [
        "#Análisis Descriptivo\n",
        "Para comenzar, realiza un análisis descriptivo de los datos, calculando métricas como media, mediana, desviación estándar y otras medidas que ayuden a comprender mejor la distribución y el comportamiento de los clientes.\n"
      ],
      "metadata": {
        "id": "oRX4VgCObOR_"
      }
    },
    {
      "cell_type": "code",
      "source": [
        "import pandas as pd\n"
      ],
      "metadata": {
        "id": "X9O_ookcb3dE"
      },
      "execution_count": 26,
      "outputs": []
    },
    {
      "cell_type": "code",
      "source": [
        "# Ajustes para ver todas las columnas\n",
        "pd.set_option('display.max_columns', None)\n",
        "pd.set_option('display.width', 1000)"
      ],
      "metadata": {
        "id": "1sN9ZuuGb9SR"
      },
      "execution_count": 27,
      "outputs": []
    },
    {
      "cell_type": "markdown",
      "source": [
        "# 1. Estadísticas descriptivas generales (numéricas)\n",
        "estadisticas_numericas = datos.describe().T  # Transpuesta para mejor lectura\n",
        "print(\"\\n📊 Estadísticas Numéricas:\")\n",
        "display(estadisticas_numericas)\n"
      ],
      "metadata": {
        "id": "EIavc5yTcEma"
      }
    },
    {
      "cell_type": "code",
      "source": [
        "# 1. Estadísticas descriptivas generales (numéricas)\n",
        "estadisticas_numericas = datos.describe().T  # Transpuesta para mejor lectura\n",
        "print(\"\\n📊 Estadísticas Numéricas:\")\n",
        "display(estadisticas_numericas)"
      ],
      "metadata": {
        "colab": {
          "base_uri": "https://localhost:8080/",
          "height": 335
        },
        "id": "84pxL_RqcHKQ",
        "outputId": "21b981ce-a501-40f8-88c0-643ad1ea834c"
      },
      "execution_count": 28,
      "outputs": [
        {
          "output_type": "stream",
          "name": "stdout",
          "text": [
            "\n",
            "📊 Estadísticas Numéricas:\n"
          ]
        },
        {
          "output_type": "display_data",
          "data": {
            "text/plain": [
              "                   count       mean        std        min        25%        50%        75%         max\n",
              "SeniorCitizen     7267.0   0.162653   0.369074   0.000000   0.000000   0.000000   0.000000    1.000000\n",
              "Partner           7267.0   0.484106   0.499782   0.000000   0.000000   0.000000   1.000000    1.000000\n",
              "Dependents        7267.0   0.300124   0.458343   0.000000   0.000000   0.000000   1.000000    1.000000\n",
              "Meses_Contrato    7267.0  32.346498  24.571773   0.000000   9.000000  29.000000  55.000000   72.000000\n",
              "PhoneService      7267.0   0.902711   0.296371   0.000000   1.000000   1.000000   1.000000    1.000000\n",
              "PaperlessBilling  7267.0   0.593230   0.491265   0.000000   0.000000   1.000000   1.000000    1.000000\n",
              "Factura_Mensual   7267.0  64.720098  30.129572  18.250000  35.425000  70.300000  89.875000  118.750000\n",
              "Factura_Diaria    7267.0   2.157337   1.004319   0.608333   1.180833   2.343333   2.995833    3.958333"
            ],
            "text/html": [
              "\n",
              "  <div id=\"df-8903d2fb-86a8-442a-a76f-4981f7f2d419\" class=\"colab-df-container\">\n",
              "    <div>\n",
              "<style scoped>\n",
              "    .dataframe tbody tr th:only-of-type {\n",
              "        vertical-align: middle;\n",
              "    }\n",
              "\n",
              "    .dataframe tbody tr th {\n",
              "        vertical-align: top;\n",
              "    }\n",
              "\n",
              "    .dataframe thead th {\n",
              "        text-align: right;\n",
              "    }\n",
              "</style>\n",
              "<table border=\"1\" class=\"dataframe\">\n",
              "  <thead>\n",
              "    <tr style=\"text-align: right;\">\n",
              "      <th></th>\n",
              "      <th>count</th>\n",
              "      <th>mean</th>\n",
              "      <th>std</th>\n",
              "      <th>min</th>\n",
              "      <th>25%</th>\n",
              "      <th>50%</th>\n",
              "      <th>75%</th>\n",
              "      <th>max</th>\n",
              "    </tr>\n",
              "  </thead>\n",
              "  <tbody>\n",
              "    <tr>\n",
              "      <th>SeniorCitizen</th>\n",
              "      <td>7267.0</td>\n",
              "      <td>0.162653</td>\n",
              "      <td>0.369074</td>\n",
              "      <td>0.000000</td>\n",
              "      <td>0.000000</td>\n",
              "      <td>0.000000</td>\n",
              "      <td>0.000000</td>\n",
              "      <td>1.000000</td>\n",
              "    </tr>\n",
              "    <tr>\n",
              "      <th>Partner</th>\n",
              "      <td>7267.0</td>\n",
              "      <td>0.484106</td>\n",
              "      <td>0.499782</td>\n",
              "      <td>0.000000</td>\n",
              "      <td>0.000000</td>\n",
              "      <td>0.000000</td>\n",
              "      <td>1.000000</td>\n",
              "      <td>1.000000</td>\n",
              "    </tr>\n",
              "    <tr>\n",
              "      <th>Dependents</th>\n",
              "      <td>7267.0</td>\n",
              "      <td>0.300124</td>\n",
              "      <td>0.458343</td>\n",
              "      <td>0.000000</td>\n",
              "      <td>0.000000</td>\n",
              "      <td>0.000000</td>\n",
              "      <td>1.000000</td>\n",
              "      <td>1.000000</td>\n",
              "    </tr>\n",
              "    <tr>\n",
              "      <th>Meses_Contrato</th>\n",
              "      <td>7267.0</td>\n",
              "      <td>32.346498</td>\n",
              "      <td>24.571773</td>\n",
              "      <td>0.000000</td>\n",
              "      <td>9.000000</td>\n",
              "      <td>29.000000</td>\n",
              "      <td>55.000000</td>\n",
              "      <td>72.000000</td>\n",
              "    </tr>\n",
              "    <tr>\n",
              "      <th>PhoneService</th>\n",
              "      <td>7267.0</td>\n",
              "      <td>0.902711</td>\n",
              "      <td>0.296371</td>\n",
              "      <td>0.000000</td>\n",
              "      <td>1.000000</td>\n",
              "      <td>1.000000</td>\n",
              "      <td>1.000000</td>\n",
              "      <td>1.000000</td>\n",
              "    </tr>\n",
              "    <tr>\n",
              "      <th>PaperlessBilling</th>\n",
              "      <td>7267.0</td>\n",
              "      <td>0.593230</td>\n",
              "      <td>0.491265</td>\n",
              "      <td>0.000000</td>\n",
              "      <td>0.000000</td>\n",
              "      <td>1.000000</td>\n",
              "      <td>1.000000</td>\n",
              "      <td>1.000000</td>\n",
              "    </tr>\n",
              "    <tr>\n",
              "      <th>Factura_Mensual</th>\n",
              "      <td>7267.0</td>\n",
              "      <td>64.720098</td>\n",
              "      <td>30.129572</td>\n",
              "      <td>18.250000</td>\n",
              "      <td>35.425000</td>\n",
              "      <td>70.300000</td>\n",
              "      <td>89.875000</td>\n",
              "      <td>118.750000</td>\n",
              "    </tr>\n",
              "    <tr>\n",
              "      <th>Factura_Diaria</th>\n",
              "      <td>7267.0</td>\n",
              "      <td>2.157337</td>\n",
              "      <td>1.004319</td>\n",
              "      <td>0.608333</td>\n",
              "      <td>1.180833</td>\n",
              "      <td>2.343333</td>\n",
              "      <td>2.995833</td>\n",
              "      <td>3.958333</td>\n",
              "    </tr>\n",
              "  </tbody>\n",
              "</table>\n",
              "</div>\n",
              "    <div class=\"colab-df-buttons\">\n",
              "\n",
              "  <div class=\"colab-df-container\">\n",
              "    <button class=\"colab-df-convert\" onclick=\"convertToInteractive('df-8903d2fb-86a8-442a-a76f-4981f7f2d419')\"\n",
              "            title=\"Convert this dataframe to an interactive table.\"\n",
              "            style=\"display:none;\">\n",
              "\n",
              "  <svg xmlns=\"http://www.w3.org/2000/svg\" height=\"24px\" viewBox=\"0 -960 960 960\">\n",
              "    <path d=\"M120-120v-720h720v720H120Zm60-500h600v-160H180v160Zm220 220h160v-160H400v160Zm0 220h160v-160H400v160ZM180-400h160v-160H180v160Zm440 0h160v-160H620v160ZM180-180h160v-160H180v160Zm440 0h160v-160H620v160Z\"/>\n",
              "  </svg>\n",
              "    </button>\n",
              "\n",
              "  <style>\n",
              "    .colab-df-container {\n",
              "      display:flex;\n",
              "      gap: 12px;\n",
              "    }\n",
              "\n",
              "    .colab-df-convert {\n",
              "      background-color: #E8F0FE;\n",
              "      border: none;\n",
              "      border-radius: 50%;\n",
              "      cursor: pointer;\n",
              "      display: none;\n",
              "      fill: #1967D2;\n",
              "      height: 32px;\n",
              "      padding: 0 0 0 0;\n",
              "      width: 32px;\n",
              "    }\n",
              "\n",
              "    .colab-df-convert:hover {\n",
              "      background-color: #E2EBFA;\n",
              "      box-shadow: 0px 1px 2px rgba(60, 64, 67, 0.3), 0px 1px 3px 1px rgba(60, 64, 67, 0.15);\n",
              "      fill: #174EA6;\n",
              "    }\n",
              "\n",
              "    .colab-df-buttons div {\n",
              "      margin-bottom: 4px;\n",
              "    }\n",
              "\n",
              "    [theme=dark] .colab-df-convert {\n",
              "      background-color: #3B4455;\n",
              "      fill: #D2E3FC;\n",
              "    }\n",
              "\n",
              "    [theme=dark] .colab-df-convert:hover {\n",
              "      background-color: #434B5C;\n",
              "      box-shadow: 0px 1px 3px 1px rgba(0, 0, 0, 0.15);\n",
              "      filter: drop-shadow(0px 1px 2px rgba(0, 0, 0, 0.3));\n",
              "      fill: #FFFFFF;\n",
              "    }\n",
              "  </style>\n",
              "\n",
              "    <script>\n",
              "      const buttonEl =\n",
              "        document.querySelector('#df-8903d2fb-86a8-442a-a76f-4981f7f2d419 button.colab-df-convert');\n",
              "      buttonEl.style.display =\n",
              "        google.colab.kernel.accessAllowed ? 'block' : 'none';\n",
              "\n",
              "      async function convertToInteractive(key) {\n",
              "        const element = document.querySelector('#df-8903d2fb-86a8-442a-a76f-4981f7f2d419');\n",
              "        const dataTable =\n",
              "          await google.colab.kernel.invokeFunction('convertToInteractive',\n",
              "                                                    [key], {});\n",
              "        if (!dataTable) return;\n",
              "\n",
              "        const docLinkHtml = 'Like what you see? Visit the ' +\n",
              "          '<a target=\"_blank\" href=https://colab.research.google.com/notebooks/data_table.ipynb>data table notebook</a>'\n",
              "          + ' to learn more about interactive tables.';\n",
              "        element.innerHTML = '';\n",
              "        dataTable['output_type'] = 'display_data';\n",
              "        await google.colab.output.renderOutput(dataTable, element);\n",
              "        const docLink = document.createElement('div');\n",
              "        docLink.innerHTML = docLinkHtml;\n",
              "        element.appendChild(docLink);\n",
              "      }\n",
              "    </script>\n",
              "  </div>\n",
              "\n",
              "\n",
              "    <div id=\"df-7be2b9ac-379e-4a14-8d3a-fe5f1203d844\">\n",
              "      <button class=\"colab-df-quickchart\" onclick=\"quickchart('df-7be2b9ac-379e-4a14-8d3a-fe5f1203d844')\"\n",
              "                title=\"Suggest charts\"\n",
              "                style=\"display:none;\">\n",
              "\n",
              "<svg xmlns=\"http://www.w3.org/2000/svg\" height=\"24px\"viewBox=\"0 0 24 24\"\n",
              "     width=\"24px\">\n",
              "    <g>\n",
              "        <path d=\"M19 3H5c-1.1 0-2 .9-2 2v14c0 1.1.9 2 2 2h14c1.1 0 2-.9 2-2V5c0-1.1-.9-2-2-2zM9 17H7v-7h2v7zm4 0h-2V7h2v10zm4 0h-2v-4h2v4z\"/>\n",
              "    </g>\n",
              "</svg>\n",
              "      </button>\n",
              "\n",
              "<style>\n",
              "  .colab-df-quickchart {\n",
              "      --bg-color: #E8F0FE;\n",
              "      --fill-color: #1967D2;\n",
              "      --hover-bg-color: #E2EBFA;\n",
              "      --hover-fill-color: #174EA6;\n",
              "      --disabled-fill-color: #AAA;\n",
              "      --disabled-bg-color: #DDD;\n",
              "  }\n",
              "\n",
              "  [theme=dark] .colab-df-quickchart {\n",
              "      --bg-color: #3B4455;\n",
              "      --fill-color: #D2E3FC;\n",
              "      --hover-bg-color: #434B5C;\n",
              "      --hover-fill-color: #FFFFFF;\n",
              "      --disabled-bg-color: #3B4455;\n",
              "      --disabled-fill-color: #666;\n",
              "  }\n",
              "\n",
              "  .colab-df-quickchart {\n",
              "    background-color: var(--bg-color);\n",
              "    border: none;\n",
              "    border-radius: 50%;\n",
              "    cursor: pointer;\n",
              "    display: none;\n",
              "    fill: var(--fill-color);\n",
              "    height: 32px;\n",
              "    padding: 0;\n",
              "    width: 32px;\n",
              "  }\n",
              "\n",
              "  .colab-df-quickchart:hover {\n",
              "    background-color: var(--hover-bg-color);\n",
              "    box-shadow: 0 1px 2px rgba(60, 64, 67, 0.3), 0 1px 3px 1px rgba(60, 64, 67, 0.15);\n",
              "    fill: var(--button-hover-fill-color);\n",
              "  }\n",
              "\n",
              "  .colab-df-quickchart-complete:disabled,\n",
              "  .colab-df-quickchart-complete:disabled:hover {\n",
              "    background-color: var(--disabled-bg-color);\n",
              "    fill: var(--disabled-fill-color);\n",
              "    box-shadow: none;\n",
              "  }\n",
              "\n",
              "  .colab-df-spinner {\n",
              "    border: 2px solid var(--fill-color);\n",
              "    border-color: transparent;\n",
              "    border-bottom-color: var(--fill-color);\n",
              "    animation:\n",
              "      spin 1s steps(1) infinite;\n",
              "  }\n",
              "\n",
              "  @keyframes spin {\n",
              "    0% {\n",
              "      border-color: transparent;\n",
              "      border-bottom-color: var(--fill-color);\n",
              "      border-left-color: var(--fill-color);\n",
              "    }\n",
              "    20% {\n",
              "      border-color: transparent;\n",
              "      border-left-color: var(--fill-color);\n",
              "      border-top-color: var(--fill-color);\n",
              "    }\n",
              "    30% {\n",
              "      border-color: transparent;\n",
              "      border-left-color: var(--fill-color);\n",
              "      border-top-color: var(--fill-color);\n",
              "      border-right-color: var(--fill-color);\n",
              "    }\n",
              "    40% {\n",
              "      border-color: transparent;\n",
              "      border-right-color: var(--fill-color);\n",
              "      border-top-color: var(--fill-color);\n",
              "    }\n",
              "    60% {\n",
              "      border-color: transparent;\n",
              "      border-right-color: var(--fill-color);\n",
              "    }\n",
              "    80% {\n",
              "      border-color: transparent;\n",
              "      border-right-color: var(--fill-color);\n",
              "      border-bottom-color: var(--fill-color);\n",
              "    }\n",
              "    90% {\n",
              "      border-color: transparent;\n",
              "      border-bottom-color: var(--fill-color);\n",
              "    }\n",
              "  }\n",
              "</style>\n",
              "\n",
              "      <script>\n",
              "        async function quickchart(key) {\n",
              "          const quickchartButtonEl =\n",
              "            document.querySelector('#' + key + ' button');\n",
              "          quickchartButtonEl.disabled = true;  // To prevent multiple clicks.\n",
              "          quickchartButtonEl.classList.add('colab-df-spinner');\n",
              "          try {\n",
              "            const charts = await google.colab.kernel.invokeFunction(\n",
              "                'suggestCharts', [key], {});\n",
              "          } catch (error) {\n",
              "            console.error('Error during call to suggestCharts:', error);\n",
              "          }\n",
              "          quickchartButtonEl.classList.remove('colab-df-spinner');\n",
              "          quickchartButtonEl.classList.add('colab-df-quickchart-complete');\n",
              "        }\n",
              "        (() => {\n",
              "          let quickchartButtonEl =\n",
              "            document.querySelector('#df-7be2b9ac-379e-4a14-8d3a-fe5f1203d844 button');\n",
              "          quickchartButtonEl.style.display =\n",
              "            google.colab.kernel.accessAllowed ? 'block' : 'none';\n",
              "        })();\n",
              "      </script>\n",
              "    </div>\n",
              "\n",
              "  <div id=\"id_fac6d581-f321-4880-a0eb-3a1ec35c5440\">\n",
              "    <style>\n",
              "      .colab-df-generate {\n",
              "        background-color: #E8F0FE;\n",
              "        border: none;\n",
              "        border-radius: 50%;\n",
              "        cursor: pointer;\n",
              "        display: none;\n",
              "        fill: #1967D2;\n",
              "        height: 32px;\n",
              "        padding: 0 0 0 0;\n",
              "        width: 32px;\n",
              "      }\n",
              "\n",
              "      .colab-df-generate:hover {\n",
              "        background-color: #E2EBFA;\n",
              "        box-shadow: 0px 1px 2px rgba(60, 64, 67, 0.3), 0px 1px 3px 1px rgba(60, 64, 67, 0.15);\n",
              "        fill: #174EA6;\n",
              "      }\n",
              "\n",
              "      [theme=dark] .colab-df-generate {\n",
              "        background-color: #3B4455;\n",
              "        fill: #D2E3FC;\n",
              "      }\n",
              "\n",
              "      [theme=dark] .colab-df-generate:hover {\n",
              "        background-color: #434B5C;\n",
              "        box-shadow: 0px 1px 3px 1px rgba(0, 0, 0, 0.15);\n",
              "        filter: drop-shadow(0px 1px 2px rgba(0, 0, 0, 0.3));\n",
              "        fill: #FFFFFF;\n",
              "      }\n",
              "    </style>\n",
              "    <button class=\"colab-df-generate\" onclick=\"generateWithVariable('estadisticas_numericas')\"\n",
              "            title=\"Generate code using this dataframe.\"\n",
              "            style=\"display:none;\">\n",
              "\n",
              "  <svg xmlns=\"http://www.w3.org/2000/svg\" height=\"24px\"viewBox=\"0 0 24 24\"\n",
              "       width=\"24px\">\n",
              "    <path d=\"M7,19H8.4L18.45,9,17,7.55,7,17.6ZM5,21V16.75L18.45,3.32a2,2,0,0,1,2.83,0l1.4,1.43a1.91,1.91,0,0,1,.58,1.4,1.91,1.91,0,0,1-.58,1.4L9.25,21ZM18.45,9,17,7.55Zm-12,3A5.31,5.31,0,0,0,4.9,8.1,5.31,5.31,0,0,0,1,6.5,5.31,5.31,0,0,0,4.9,4.9,5.31,5.31,0,0,0,6.5,1,5.31,5.31,0,0,0,8.1,4.9,5.31,5.31,0,0,0,12,6.5,5.46,5.46,0,0,0,6.5,12Z\"/>\n",
              "  </svg>\n",
              "    </button>\n",
              "    <script>\n",
              "      (() => {\n",
              "      const buttonEl =\n",
              "        document.querySelector('#id_fac6d581-f321-4880-a0eb-3a1ec35c5440 button.colab-df-generate');\n",
              "      buttonEl.style.display =\n",
              "        google.colab.kernel.accessAllowed ? 'block' : 'none';\n",
              "\n",
              "      buttonEl.onclick = () => {\n",
              "        google.colab.notebook.generateWithVariable('estadisticas_numericas');\n",
              "      }\n",
              "      })();\n",
              "    </script>\n",
              "  </div>\n",
              "\n",
              "    </div>\n",
              "  </div>\n"
            ],
            "application/vnd.google.colaboratory.intrinsic+json": {
              "type": "dataframe",
              "variable_name": "estadisticas_numericas",
              "summary": "{\n  \"name\": \"estadisticas_numericas\",\n  \"rows\": 8,\n  \"fields\": [\n    {\n      \"column\": \"count\",\n      \"properties\": {\n        \"dtype\": \"number\",\n        \"std\": 0.0,\n        \"min\": 7267.0,\n        \"max\": 7267.0,\n        \"num_unique_values\": 1,\n        \"samples\": [\n          7267.0\n        ],\n        \"semantic_type\": \"\",\n        \"description\": \"\"\n      }\n    },\n    {\n      \"column\": \"mean\",\n      \"properties\": {\n        \"dtype\": \"number\",\n        \"std\": 23.752120546198963,\n        \"min\": 0.16265308930782993,\n        \"max\": 64.72009770194028,\n        \"num_unique_values\": 8,\n        \"samples\": [\n          0.48410623365900646\n        ],\n        \"semantic_type\": \"\",\n        \"description\": \"\"\n      }\n    },\n    {\n      \"column\": \"std\",\n      \"properties\": {\n        \"dtype\": \"number\",\n        \"std\": 12.51054277966009,\n        \"min\": 0.2963714396136822,\n        \"max\": 30.12957188566699,\n        \"num_unique_values\": 8,\n        \"samples\": [\n          0.49978171260213444\n        ],\n        \"semantic_type\": \"\",\n        \"description\": \"\"\n      }\n    },\n    {\n      \"column\": \"min\",\n      \"properties\": {\n        \"dtype\": \"number\",\n        \"std\": 6.425151220349999,\n        \"min\": 0.0,\n        \"max\": 18.25,\n        \"num_unique_values\": 3,\n        \"samples\": [\n          0.0\n        ],\n        \"semantic_type\": \"\",\n        \"description\": \"\"\n      }\n    },\n    {\n      \"column\": \"25%\",\n      \"properties\": {\n        \"dtype\": \"number\",\n        \"std\": 12.345109093855205,\n        \"min\": 0.0,\n        \"max\": 35.425,\n        \"num_unique_values\": 5,\n        \"samples\": [\n          9.0\n        ],\n        \"semantic_type\": \"\",\n        \"description\": \"\"\n      }\n    },\n    {\n      \"column\": \"50%\",\n      \"properties\": {\n        \"dtype\": \"number\",\n        \"std\": 25.207251346319136,\n        \"min\": 0.0,\n        \"max\": 70.3,\n        \"num_unique_values\": 5,\n        \"samples\": [\n          29.0\n        ],\n        \"semantic_type\": \"\",\n        \"description\": \"\"\n      }\n    },\n    {\n      \"column\": \"75%\",\n      \"properties\": {\n        \"dtype\": \"number\",\n        \"std\": 34.29368307135748,\n        \"min\": 0.0,\n        \"max\": 89.875,\n        \"num_unique_values\": 5,\n        \"samples\": [\n          1.0\n        ],\n        \"semantic_type\": \"\",\n        \"description\": \"\"\n      }\n    },\n    {\n      \"column\": \"max\",\n      \"properties\": {\n        \"dtype\": \"number\",\n        \"std\": 45.23084219933902,\n        \"min\": 1.0,\n        \"max\": 118.75,\n        \"num_unique_values\": 4,\n        \"samples\": [\n          72.0\n        ],\n        \"semantic_type\": \"\",\n        \"description\": \"\"\n      }\n    }\n  ]\n}"
            }
          },
          "metadata": {}
        }
      ]
    },
    {
      "cell_type": "markdown",
      "source": [
        "# 2. Mediana de cada variable numérica\n",
        "medianas = datos.median(numeric_only=True)\n",
        "print(\"\\n📍 Medianas:\")\n",
        "display(medianas)\n"
      ],
      "metadata": {
        "id": "Sgx_jMB6cVbJ"
      }
    },
    {
      "cell_type": "code",
      "source": [
        "# 2. Mediana de cada variable numérica\n",
        "medianas = datos.median(numeric_only=True)\n",
        "print(\"\\n📍 Medianas:\")\n",
        "display(medianas)"
      ],
      "metadata": {
        "colab": {
          "base_uri": "https://localhost:8080/",
          "height": 370
        },
        "id": "1VFGm_q4cYUz",
        "outputId": "5aaa8d91-91e5-4be0-eb71-7cd673573788"
      },
      "execution_count": 29,
      "outputs": [
        {
          "output_type": "stream",
          "name": "stdout",
          "text": [
            "\n",
            "📍 Medianas:\n"
          ]
        },
        {
          "output_type": "display_data",
          "data": {
            "text/plain": [
              "SeniorCitizen        0.000000\n",
              "Partner              0.000000\n",
              "Dependents           0.000000\n",
              "Meses_Contrato      29.000000\n",
              "PhoneService         1.000000\n",
              "PaperlessBilling     1.000000\n",
              "Factura_Mensual     70.300000\n",
              "Factura_Diaria       2.343333\n",
              "dtype: float64"
            ],
            "text/html": [
              "<div>\n",
              "<style scoped>\n",
              "    .dataframe tbody tr th:only-of-type {\n",
              "        vertical-align: middle;\n",
              "    }\n",
              "\n",
              "    .dataframe tbody tr th {\n",
              "        vertical-align: top;\n",
              "    }\n",
              "\n",
              "    .dataframe thead th {\n",
              "        text-align: right;\n",
              "    }\n",
              "</style>\n",
              "<table border=\"1\" class=\"dataframe\">\n",
              "  <thead>\n",
              "    <tr style=\"text-align: right;\">\n",
              "      <th></th>\n",
              "      <th>0</th>\n",
              "    </tr>\n",
              "  </thead>\n",
              "  <tbody>\n",
              "    <tr>\n",
              "      <th>SeniorCitizen</th>\n",
              "      <td>0.000000</td>\n",
              "    </tr>\n",
              "    <tr>\n",
              "      <th>Partner</th>\n",
              "      <td>0.000000</td>\n",
              "    </tr>\n",
              "    <tr>\n",
              "      <th>Dependents</th>\n",
              "      <td>0.000000</td>\n",
              "    </tr>\n",
              "    <tr>\n",
              "      <th>Meses_Contrato</th>\n",
              "      <td>29.000000</td>\n",
              "    </tr>\n",
              "    <tr>\n",
              "      <th>PhoneService</th>\n",
              "      <td>1.000000</td>\n",
              "    </tr>\n",
              "    <tr>\n",
              "      <th>PaperlessBilling</th>\n",
              "      <td>1.000000</td>\n",
              "    </tr>\n",
              "    <tr>\n",
              "      <th>Factura_Mensual</th>\n",
              "      <td>70.300000</td>\n",
              "    </tr>\n",
              "    <tr>\n",
              "      <th>Factura_Diaria</th>\n",
              "      <td>2.343333</td>\n",
              "    </tr>\n",
              "  </tbody>\n",
              "</table>\n",
              "</div><br><label><b>dtype:</b> float64</label>"
            ]
          },
          "metadata": {}
        }
      ]
    },
    {
      "cell_type": "markdown",
      "source": [
        "# 3. Estadísticas para variables categóricas\n",
        "estadisticas_categoricas = datos.describe(include='object').T\n",
        "print(\"\\n🔠 Estadísticas Categóricas:\")\n",
        "display(estadisticas_categoricas)\n"
      ],
      "metadata": {
        "id": "5-tk3fjddDr9"
      }
    },
    {
      "cell_type": "code",
      "source": [
        "# 3. Estadísticas para variables categóricas\n",
        "estadisticas_categoricas = datos.describe(include='object').T\n",
        "print(\"\\n🔠 Estadísticas Categóricas:\")\n",
        "display(estadisticas_categoricas)"
      ],
      "metadata": {
        "colab": {
          "base_uri": "https://localhost:8080/",
          "height": 523
        },
        "id": "ZQMJ9_pldLJD",
        "outputId": "7d82e60a-2a4c-4481-9dd7-03f72feec307"
      },
      "execution_count": 30,
      "outputs": [
        {
          "output_type": "stream",
          "name": "stdout",
          "text": [
            "\n",
            "🔠 Estadísticas Categóricas:\n"
          ]
        },
        {
          "output_type": "display_data",
          "data": {
            "text/plain": [
              "                 count unique               top  freq\n",
              "customerID        7267   7267        9995-HOTOH     1\n",
              "Churn             7267      3                 0  5174\n",
              "gender            7267      2              Male  3675\n",
              "MultipleLines     7267      3                 0  3495\n",
              "InternetService   7267      3       Fiber optic  3198\n",
              "OnlineSecurity    7267      3                 0  3608\n",
              "OnlineBackup      7267      3                 0  3182\n",
              "DeviceProtection  7267      3                 0  3195\n",
              "TechSupport       7267      3                 0  3582\n",
              "StreamingTV       7267      3                 0  2896\n",
              "StreamingMovies   7267      3                 0  2870\n",
              "Contract          7267      3    Month-to-month  4005\n",
              "PaymentMethod     7267      4  Electronic check  2445\n",
              "Factura_Total     7267   6531              20.2    11"
            ],
            "text/html": [
              "\n",
              "  <div id=\"df-b2c74ef7-3306-45b1-b4b9-a6a3ba23634c\" class=\"colab-df-container\">\n",
              "    <div>\n",
              "<style scoped>\n",
              "    .dataframe tbody tr th:only-of-type {\n",
              "        vertical-align: middle;\n",
              "    }\n",
              "\n",
              "    .dataframe tbody tr th {\n",
              "        vertical-align: top;\n",
              "    }\n",
              "\n",
              "    .dataframe thead th {\n",
              "        text-align: right;\n",
              "    }\n",
              "</style>\n",
              "<table border=\"1\" class=\"dataframe\">\n",
              "  <thead>\n",
              "    <tr style=\"text-align: right;\">\n",
              "      <th></th>\n",
              "      <th>count</th>\n",
              "      <th>unique</th>\n",
              "      <th>top</th>\n",
              "      <th>freq</th>\n",
              "    </tr>\n",
              "  </thead>\n",
              "  <tbody>\n",
              "    <tr>\n",
              "      <th>customerID</th>\n",
              "      <td>7267</td>\n",
              "      <td>7267</td>\n",
              "      <td>9995-HOTOH</td>\n",
              "      <td>1</td>\n",
              "    </tr>\n",
              "    <tr>\n",
              "      <th>Churn</th>\n",
              "      <td>7267</td>\n",
              "      <td>3</td>\n",
              "      <td>0</td>\n",
              "      <td>5174</td>\n",
              "    </tr>\n",
              "    <tr>\n",
              "      <th>gender</th>\n",
              "      <td>7267</td>\n",
              "      <td>2</td>\n",
              "      <td>Male</td>\n",
              "      <td>3675</td>\n",
              "    </tr>\n",
              "    <tr>\n",
              "      <th>MultipleLines</th>\n",
              "      <td>7267</td>\n",
              "      <td>3</td>\n",
              "      <td>0</td>\n",
              "      <td>3495</td>\n",
              "    </tr>\n",
              "    <tr>\n",
              "      <th>InternetService</th>\n",
              "      <td>7267</td>\n",
              "      <td>3</td>\n",
              "      <td>Fiber optic</td>\n",
              "      <td>3198</td>\n",
              "    </tr>\n",
              "    <tr>\n",
              "      <th>OnlineSecurity</th>\n",
              "      <td>7267</td>\n",
              "      <td>3</td>\n",
              "      <td>0</td>\n",
              "      <td>3608</td>\n",
              "    </tr>\n",
              "    <tr>\n",
              "      <th>OnlineBackup</th>\n",
              "      <td>7267</td>\n",
              "      <td>3</td>\n",
              "      <td>0</td>\n",
              "      <td>3182</td>\n",
              "    </tr>\n",
              "    <tr>\n",
              "      <th>DeviceProtection</th>\n",
              "      <td>7267</td>\n",
              "      <td>3</td>\n",
              "      <td>0</td>\n",
              "      <td>3195</td>\n",
              "    </tr>\n",
              "    <tr>\n",
              "      <th>TechSupport</th>\n",
              "      <td>7267</td>\n",
              "      <td>3</td>\n",
              "      <td>0</td>\n",
              "      <td>3582</td>\n",
              "    </tr>\n",
              "    <tr>\n",
              "      <th>StreamingTV</th>\n",
              "      <td>7267</td>\n",
              "      <td>3</td>\n",
              "      <td>0</td>\n",
              "      <td>2896</td>\n",
              "    </tr>\n",
              "    <tr>\n",
              "      <th>StreamingMovies</th>\n",
              "      <td>7267</td>\n",
              "      <td>3</td>\n",
              "      <td>0</td>\n",
              "      <td>2870</td>\n",
              "    </tr>\n",
              "    <tr>\n",
              "      <th>Contract</th>\n",
              "      <td>7267</td>\n",
              "      <td>3</td>\n",
              "      <td>Month-to-month</td>\n",
              "      <td>4005</td>\n",
              "    </tr>\n",
              "    <tr>\n",
              "      <th>PaymentMethod</th>\n",
              "      <td>7267</td>\n",
              "      <td>4</td>\n",
              "      <td>Electronic check</td>\n",
              "      <td>2445</td>\n",
              "    </tr>\n",
              "    <tr>\n",
              "      <th>Factura_Total</th>\n",
              "      <td>7267</td>\n",
              "      <td>6531</td>\n",
              "      <td>20.2</td>\n",
              "      <td>11</td>\n",
              "    </tr>\n",
              "  </tbody>\n",
              "</table>\n",
              "</div>\n",
              "    <div class=\"colab-df-buttons\">\n",
              "\n",
              "  <div class=\"colab-df-container\">\n",
              "    <button class=\"colab-df-convert\" onclick=\"convertToInteractive('df-b2c74ef7-3306-45b1-b4b9-a6a3ba23634c')\"\n",
              "            title=\"Convert this dataframe to an interactive table.\"\n",
              "            style=\"display:none;\">\n",
              "\n",
              "  <svg xmlns=\"http://www.w3.org/2000/svg\" height=\"24px\" viewBox=\"0 -960 960 960\">\n",
              "    <path d=\"M120-120v-720h720v720H120Zm60-500h600v-160H180v160Zm220 220h160v-160H400v160Zm0 220h160v-160H400v160ZM180-400h160v-160H180v160Zm440 0h160v-160H620v160ZM180-180h160v-160H180v160Zm440 0h160v-160H620v160Z\"/>\n",
              "  </svg>\n",
              "    </button>\n",
              "\n",
              "  <style>\n",
              "    .colab-df-container {\n",
              "      display:flex;\n",
              "      gap: 12px;\n",
              "    }\n",
              "\n",
              "    .colab-df-convert {\n",
              "      background-color: #E8F0FE;\n",
              "      border: none;\n",
              "      border-radius: 50%;\n",
              "      cursor: pointer;\n",
              "      display: none;\n",
              "      fill: #1967D2;\n",
              "      height: 32px;\n",
              "      padding: 0 0 0 0;\n",
              "      width: 32px;\n",
              "    }\n",
              "\n",
              "    .colab-df-convert:hover {\n",
              "      background-color: #E2EBFA;\n",
              "      box-shadow: 0px 1px 2px rgba(60, 64, 67, 0.3), 0px 1px 3px 1px rgba(60, 64, 67, 0.15);\n",
              "      fill: #174EA6;\n",
              "    }\n",
              "\n",
              "    .colab-df-buttons div {\n",
              "      margin-bottom: 4px;\n",
              "    }\n",
              "\n",
              "    [theme=dark] .colab-df-convert {\n",
              "      background-color: #3B4455;\n",
              "      fill: #D2E3FC;\n",
              "    }\n",
              "\n",
              "    [theme=dark] .colab-df-convert:hover {\n",
              "      background-color: #434B5C;\n",
              "      box-shadow: 0px 1px 3px 1px rgba(0, 0, 0, 0.15);\n",
              "      filter: drop-shadow(0px 1px 2px rgba(0, 0, 0, 0.3));\n",
              "      fill: #FFFFFF;\n",
              "    }\n",
              "  </style>\n",
              "\n",
              "    <script>\n",
              "      const buttonEl =\n",
              "        document.querySelector('#df-b2c74ef7-3306-45b1-b4b9-a6a3ba23634c button.colab-df-convert');\n",
              "      buttonEl.style.display =\n",
              "        google.colab.kernel.accessAllowed ? 'block' : 'none';\n",
              "\n",
              "      async function convertToInteractive(key) {\n",
              "        const element = document.querySelector('#df-b2c74ef7-3306-45b1-b4b9-a6a3ba23634c');\n",
              "        const dataTable =\n",
              "          await google.colab.kernel.invokeFunction('convertToInteractive',\n",
              "                                                    [key], {});\n",
              "        if (!dataTable) return;\n",
              "\n",
              "        const docLinkHtml = 'Like what you see? Visit the ' +\n",
              "          '<a target=\"_blank\" href=https://colab.research.google.com/notebooks/data_table.ipynb>data table notebook</a>'\n",
              "          + ' to learn more about interactive tables.';\n",
              "        element.innerHTML = '';\n",
              "        dataTable['output_type'] = 'display_data';\n",
              "        await google.colab.output.renderOutput(dataTable, element);\n",
              "        const docLink = document.createElement('div');\n",
              "        docLink.innerHTML = docLinkHtml;\n",
              "        element.appendChild(docLink);\n",
              "      }\n",
              "    </script>\n",
              "  </div>\n",
              "\n",
              "\n",
              "    <div id=\"df-e0e826b0-452a-4f93-9342-515502d38c62\">\n",
              "      <button class=\"colab-df-quickchart\" onclick=\"quickchart('df-e0e826b0-452a-4f93-9342-515502d38c62')\"\n",
              "                title=\"Suggest charts\"\n",
              "                style=\"display:none;\">\n",
              "\n",
              "<svg xmlns=\"http://www.w3.org/2000/svg\" height=\"24px\"viewBox=\"0 0 24 24\"\n",
              "     width=\"24px\">\n",
              "    <g>\n",
              "        <path d=\"M19 3H5c-1.1 0-2 .9-2 2v14c0 1.1.9 2 2 2h14c1.1 0 2-.9 2-2V5c0-1.1-.9-2-2-2zM9 17H7v-7h2v7zm4 0h-2V7h2v10zm4 0h-2v-4h2v4z\"/>\n",
              "    </g>\n",
              "</svg>\n",
              "      </button>\n",
              "\n",
              "<style>\n",
              "  .colab-df-quickchart {\n",
              "      --bg-color: #E8F0FE;\n",
              "      --fill-color: #1967D2;\n",
              "      --hover-bg-color: #E2EBFA;\n",
              "      --hover-fill-color: #174EA6;\n",
              "      --disabled-fill-color: #AAA;\n",
              "      --disabled-bg-color: #DDD;\n",
              "  }\n",
              "\n",
              "  [theme=dark] .colab-df-quickchart {\n",
              "      --bg-color: #3B4455;\n",
              "      --fill-color: #D2E3FC;\n",
              "      --hover-bg-color: #434B5C;\n",
              "      --hover-fill-color: #FFFFFF;\n",
              "      --disabled-bg-color: #3B4455;\n",
              "      --disabled-fill-color: #666;\n",
              "  }\n",
              "\n",
              "  .colab-df-quickchart {\n",
              "    background-color: var(--bg-color);\n",
              "    border: none;\n",
              "    border-radius: 50%;\n",
              "    cursor: pointer;\n",
              "    display: none;\n",
              "    fill: var(--fill-color);\n",
              "    height: 32px;\n",
              "    padding: 0;\n",
              "    width: 32px;\n",
              "  }\n",
              "\n",
              "  .colab-df-quickchart:hover {\n",
              "    background-color: var(--hover-bg-color);\n",
              "    box-shadow: 0 1px 2px rgba(60, 64, 67, 0.3), 0 1px 3px 1px rgba(60, 64, 67, 0.15);\n",
              "    fill: var(--button-hover-fill-color);\n",
              "  }\n",
              "\n",
              "  .colab-df-quickchart-complete:disabled,\n",
              "  .colab-df-quickchart-complete:disabled:hover {\n",
              "    background-color: var(--disabled-bg-color);\n",
              "    fill: var(--disabled-fill-color);\n",
              "    box-shadow: none;\n",
              "  }\n",
              "\n",
              "  .colab-df-spinner {\n",
              "    border: 2px solid var(--fill-color);\n",
              "    border-color: transparent;\n",
              "    border-bottom-color: var(--fill-color);\n",
              "    animation:\n",
              "      spin 1s steps(1) infinite;\n",
              "  }\n",
              "\n",
              "  @keyframes spin {\n",
              "    0% {\n",
              "      border-color: transparent;\n",
              "      border-bottom-color: var(--fill-color);\n",
              "      border-left-color: var(--fill-color);\n",
              "    }\n",
              "    20% {\n",
              "      border-color: transparent;\n",
              "      border-left-color: var(--fill-color);\n",
              "      border-top-color: var(--fill-color);\n",
              "    }\n",
              "    30% {\n",
              "      border-color: transparent;\n",
              "      border-left-color: var(--fill-color);\n",
              "      border-top-color: var(--fill-color);\n",
              "      border-right-color: var(--fill-color);\n",
              "    }\n",
              "    40% {\n",
              "      border-color: transparent;\n",
              "      border-right-color: var(--fill-color);\n",
              "      border-top-color: var(--fill-color);\n",
              "    }\n",
              "    60% {\n",
              "      border-color: transparent;\n",
              "      border-right-color: var(--fill-color);\n",
              "    }\n",
              "    80% {\n",
              "      border-color: transparent;\n",
              "      border-right-color: var(--fill-color);\n",
              "      border-bottom-color: var(--fill-color);\n",
              "    }\n",
              "    90% {\n",
              "      border-color: transparent;\n",
              "      border-bottom-color: var(--fill-color);\n",
              "    }\n",
              "  }\n",
              "</style>\n",
              "\n",
              "      <script>\n",
              "        async function quickchart(key) {\n",
              "          const quickchartButtonEl =\n",
              "            document.querySelector('#' + key + ' button');\n",
              "          quickchartButtonEl.disabled = true;  // To prevent multiple clicks.\n",
              "          quickchartButtonEl.classList.add('colab-df-spinner');\n",
              "          try {\n",
              "            const charts = await google.colab.kernel.invokeFunction(\n",
              "                'suggestCharts', [key], {});\n",
              "          } catch (error) {\n",
              "            console.error('Error during call to suggestCharts:', error);\n",
              "          }\n",
              "          quickchartButtonEl.classList.remove('colab-df-spinner');\n",
              "          quickchartButtonEl.classList.add('colab-df-quickchart-complete');\n",
              "        }\n",
              "        (() => {\n",
              "          let quickchartButtonEl =\n",
              "            document.querySelector('#df-e0e826b0-452a-4f93-9342-515502d38c62 button');\n",
              "          quickchartButtonEl.style.display =\n",
              "            google.colab.kernel.accessAllowed ? 'block' : 'none';\n",
              "        })();\n",
              "      </script>\n",
              "    </div>\n",
              "\n",
              "  <div id=\"id_5803383f-fcca-4647-85c4-90c7c39aca67\">\n",
              "    <style>\n",
              "      .colab-df-generate {\n",
              "        background-color: #E8F0FE;\n",
              "        border: none;\n",
              "        border-radius: 50%;\n",
              "        cursor: pointer;\n",
              "        display: none;\n",
              "        fill: #1967D2;\n",
              "        height: 32px;\n",
              "        padding: 0 0 0 0;\n",
              "        width: 32px;\n",
              "      }\n",
              "\n",
              "      .colab-df-generate:hover {\n",
              "        background-color: #E2EBFA;\n",
              "        box-shadow: 0px 1px 2px rgba(60, 64, 67, 0.3), 0px 1px 3px 1px rgba(60, 64, 67, 0.15);\n",
              "        fill: #174EA6;\n",
              "      }\n",
              "\n",
              "      [theme=dark] .colab-df-generate {\n",
              "        background-color: #3B4455;\n",
              "        fill: #D2E3FC;\n",
              "      }\n",
              "\n",
              "      [theme=dark] .colab-df-generate:hover {\n",
              "        background-color: #434B5C;\n",
              "        box-shadow: 0px 1px 3px 1px rgba(0, 0, 0, 0.15);\n",
              "        filter: drop-shadow(0px 1px 2px rgba(0, 0, 0, 0.3));\n",
              "        fill: #FFFFFF;\n",
              "      }\n",
              "    </style>\n",
              "    <button class=\"colab-df-generate\" onclick=\"generateWithVariable('estadisticas_categoricas')\"\n",
              "            title=\"Generate code using this dataframe.\"\n",
              "            style=\"display:none;\">\n",
              "\n",
              "  <svg xmlns=\"http://www.w3.org/2000/svg\" height=\"24px\"viewBox=\"0 0 24 24\"\n",
              "       width=\"24px\">\n",
              "    <path d=\"M7,19H8.4L18.45,9,17,7.55,7,17.6ZM5,21V16.75L18.45,3.32a2,2,0,0,1,2.83,0l1.4,1.43a1.91,1.91,0,0,1,.58,1.4,1.91,1.91,0,0,1-.58,1.4L9.25,21ZM18.45,9,17,7.55Zm-12,3A5.31,5.31,0,0,0,4.9,8.1,5.31,5.31,0,0,0,1,6.5,5.31,5.31,0,0,0,4.9,4.9,5.31,5.31,0,0,0,6.5,1,5.31,5.31,0,0,0,8.1,4.9,5.31,5.31,0,0,0,12,6.5,5.46,5.46,0,0,0,6.5,12Z\"/>\n",
              "  </svg>\n",
              "    </button>\n",
              "    <script>\n",
              "      (() => {\n",
              "      const buttonEl =\n",
              "        document.querySelector('#id_5803383f-fcca-4647-85c4-90c7c39aca67 button.colab-df-generate');\n",
              "      buttonEl.style.display =\n",
              "        google.colab.kernel.accessAllowed ? 'block' : 'none';\n",
              "\n",
              "      buttonEl.onclick = () => {\n",
              "        google.colab.notebook.generateWithVariable('estadisticas_categoricas');\n",
              "      }\n",
              "      })();\n",
              "    </script>\n",
              "  </div>\n",
              "\n",
              "    </div>\n",
              "  </div>\n"
            ],
            "application/vnd.google.colaboratory.intrinsic+json": {
              "type": "dataframe",
              "variable_name": "estadisticas_categoricas",
              "summary": "{\n  \"name\": \"estadisticas_categoricas\",\n  \"rows\": 14,\n  \"fields\": [\n    {\n      \"column\": \"count\",\n      \"properties\": {\n        \"dtype\": \"date\",\n        \"min\": \"7267\",\n        \"max\": \"7267\",\n        \"num_unique_values\": 1,\n        \"samples\": [\n          \"7267\"\n        ],\n        \"semantic_type\": \"\",\n        \"description\": \"\"\n      }\n    },\n    {\n      \"column\": \"unique\",\n      \"properties\": {\n        \"dtype\": \"date\",\n        \"min\": 2,\n        \"max\": 7267,\n        \"num_unique_values\": 5,\n        \"samples\": [\n          3\n        ],\n        \"semantic_type\": \"\",\n        \"description\": \"\"\n      }\n    },\n    {\n      \"column\": \"top\",\n      \"properties\": {\n        \"dtype\": \"string\",\n        \"num_unique_values\": 7,\n        \"samples\": [\n          \"9995-HOTOH\"\n        ],\n        \"semantic_type\": \"\",\n        \"description\": \"\"\n      }\n    },\n    {\n      \"column\": \"freq\",\n      \"properties\": {\n        \"dtype\": \"date\",\n        \"min\": \"1\",\n        \"max\": 5174,\n        \"num_unique_values\": 14,\n        \"samples\": [\n          2896\n        ],\n        \"semantic_type\": \"\",\n        \"description\": \"\"\n      }\n    }\n  ]\n}"
            }
          },
          "metadata": {}
        }
      ]
    },
    {
      "cell_type": "markdown",
      "source": [
        "# 4. Distribución de la variable objetivo Churn\n",
        "churn_counts = datos['Churn'].value_counts(normalize=True) * 100\n",
        "print(\"\\n📈 Distribución de Churn (%):\")\n",
        "display(churn_counts)\n"
      ],
      "metadata": {
        "id": "XWP92nobdUeW"
      }
    },
    {
      "cell_type": "code",
      "source": [
        "# 4. Distribución de la variable objetivo Churn\n",
        "churn_counts = datos['Churn'].value_counts(normalize=True) * 100\n",
        "print(\"\\n📈 Distribución de Churn (%):\")\n",
        "display(churn_counts)\n"
      ],
      "metadata": {
        "colab": {
          "base_uri": "https://localhost:8080/",
          "height": 245
        },
        "id": "_nCOFiqCdXJT",
        "outputId": "2c238cdd-49ab-4ba9-b355-38995e754eb1"
      },
      "execution_count": 31,
      "outputs": [
        {
          "output_type": "stream",
          "name": "stdout",
          "text": [
            "\n",
            "📈 Distribución de Churn (%):\n"
          ]
        },
        {
          "output_type": "display_data",
          "data": {
            "text/plain": [
              "Churn\n",
              "0    71.198569\n",
              "1    25.719004\n",
              "      3.082427\n",
              "Name: proportion, dtype: float64"
            ],
            "text/html": [
              "<div>\n",
              "<style scoped>\n",
              "    .dataframe tbody tr th:only-of-type {\n",
              "        vertical-align: middle;\n",
              "    }\n",
              "\n",
              "    .dataframe tbody tr th {\n",
              "        vertical-align: top;\n",
              "    }\n",
              "\n",
              "    .dataframe thead th {\n",
              "        text-align: right;\n",
              "    }\n",
              "</style>\n",
              "<table border=\"1\" class=\"dataframe\">\n",
              "  <thead>\n",
              "    <tr style=\"text-align: right;\">\n",
              "      <th></th>\n",
              "      <th>proportion</th>\n",
              "    </tr>\n",
              "    <tr>\n",
              "      <th>Churn</th>\n",
              "      <th></th>\n",
              "    </tr>\n",
              "  </thead>\n",
              "  <tbody>\n",
              "    <tr>\n",
              "      <th>0</th>\n",
              "      <td>71.198569</td>\n",
              "    </tr>\n",
              "    <tr>\n",
              "      <th>1</th>\n",
              "      <td>25.719004</td>\n",
              "    </tr>\n",
              "    <tr>\n",
              "      <th></th>\n",
              "      <td>3.082427</td>\n",
              "    </tr>\n",
              "  </tbody>\n",
              "</table>\n",
              "</div><br><label><b>dtype:</b> float64</label>"
            ]
          },
          "metadata": {}
        }
      ]
    },
    {
      "cell_type": "markdown",
      "source": [
        "En este paso, el objetivo es comprender cómo está distribuida la variable \"churn\" (evasión) entre los clientes. Utiliza gráficos para visualizar la proporción de clientes que permanecieron y los que se dieron de baja.\n",
        "import matplotlib.pyplot as plt\n",
        "\n",
        "import seaborn as sns"
      ],
      "metadata": {
        "id": "uxKElTJweKQj"
      }
    },
    {
      "cell_type": "code",
      "source": [
        "import matplotlib.pyplot as plt\n",
        "import seaborn as sns"
      ],
      "metadata": {
        "id": "C6fzhh0GeMLU"
      },
      "execution_count": 32,
      "outputs": []
    },
    {
      "cell_type": "markdown",
      "source": [
        "# Visualización de la distribución de la variable \"Churn\"\n",
        "plt.figure(figsize=(6, 4))\n",
        "sns.countplot(data=datos, x='Churn', palette='Set2')"
      ],
      "metadata": {
        "id": "2Cxqej6leX5C"
      }
    },
    {
      "cell_type": "code",
      "source": [
        "# Visualización de la distribución de la variable \"Churn\"\n",
        "plt.figure(figsize=(6, 4))\n",
        "sns.countplot(data=datos, x='Churn', palette='Set2')"
      ],
      "metadata": {
        "colab": {
          "base_uri": "https://localhost:8080/",
          "height": 492
        },
        "id": "U5SWa6x7eY7U",
        "outputId": "28306b64-31ae-47da-ae41-e553c7b06143"
      },
      "execution_count": 33,
      "outputs": [
        {
          "output_type": "stream",
          "name": "stderr",
          "text": [
            "/tmp/ipython-input-863829138.py:3: FutureWarning: \n",
            "\n",
            "Passing `palette` without assigning `hue` is deprecated and will be removed in v0.14.0. Assign the `x` variable to `hue` and set `legend=False` for the same effect.\n",
            "\n",
            "  sns.countplot(data=datos, x='Churn', palette='Set2')\n"
          ]
        },
        {
          "output_type": "execute_result",
          "data": {
            "text/plain": [
              "<Axes: xlabel='Churn', ylabel='count'>"
            ]
          },
          "metadata": {},
          "execution_count": 33
        },
        {
          "output_type": "display_data",
          "data": {
            "text/plain": [
              "<Figure size 600x400 with 1 Axes>"
            ],
            "image/png": "[encoded data removed]"
          },
          "metadata": {}
        }
      ]
    },
    {
      "cell_type": "markdown",
      "source": [
        "\n",
        "# Títulos y etiquetas\n",
        "plt.title('Distribución de Churn (Evasión de Clientes)', fontsize=14)\n",
        "plt.xlabel('Churn (0 = No se fue, 1 = Se fue)', fontsize=12)\n",
        "plt.ylabel('Cantidad de Clientes', fontsize=12)"
      ],
      "metadata": {
        "id": "Z9lU7Y7bei2B"
      }
    },
    {
      "cell_type": "code",
      "source": [
        "\n",
        "# Títulos y etiquetas\n",
        "plt.title('Distribución de Churn (Evasión de Clientes)', fontsize=14)\n",
        "plt.xlabel('Churn (0 = No se fue, 1 = Se fue)', fontsize=12)\n",
        "plt.ylabel('Cantidad de Clientes', fontsize=12)"
      ],
      "metadata": {
        "colab": {
          "base_uri": "https://localhost:8080/",
          "height": 494
        },
        "id": "1NOv-n5iej0V",
        "outputId": "9d6a476a-60b9-48f4-e4f6-7f8990b58e80"
      },
      "execution_count": 34,
      "outputs": [
        {
          "output_type": "execute_result",
          "data": {
            "text/plain": [
              "Text(0, 0.5, 'Cantidad de Clientes')"
            ]
          },
          "metadata": {},
          "execution_count": 34
        },
        {
          "output_type": "display_data",
          "data": {
            "text/plain": [
              "<Figure size 640x480 with 1 Axes>"
            ],
            "image/png": "[encoded data removed]"
          },
          "metadata": {}
        }
      ]
    },
    {
      "cell_type": "code",
      "source": [
        "# Mostrar el gráfico\n",
        "plt.show()"
      ],
      "metadata": {
        "id": "mGeVp1DXerbw"
      },
      "execution_count": 36,
      "outputs": []
    },
    {
      "cell_type": "markdown",
      "source": [
        "#Recuento de evasión por variables categóricas\n",
        "Ahora, exploraremos cómo se distribuye la evasión según variables categóricas, como género, tipo de contrato, método de pago, entre otras.\n",
        "\n",
        "Este análisis puede revelar patrones interesantes, por ejemplo, si los clientes de ciertos perfiles tienen una mayor tendencia a cancelar el servicio, lo que ayudará a orientar acciones estratégicas."
      ],
      "metadata": {
        "id": "mKQP2atbe3lF"
      }
    },
    {
      "cell_type": "markdown",
      "source": [
        "# Listado de columnas categóricas relevantes\n",
        "columnas_categoricas = [\n",
        "    'gender', 'Partner', 'Dependents', 'Contract', 'PaymentMethod', 'InternetService',\n",
        "    'OnlineSecurity', 'OnlineBackup', 'DeviceProtection', 'TechSupport', 'StreamingTV', 'StreamingMovies'\n",
        "]\n",
        "\n",
        "# Crear gráficos de barras para cada variable categórica vs Churn\n",
        "plt.figure(figsize=(16, 16))\n",
        "for i, col in enumerate(columnas_categoricas, 1):\n",
        "    plt.subplot(4, 3, i)  # 4 filas, 3 columnas de gráficos\n",
        "    sns.countplot(data=datos, x=col, hue='Churn', palette='Set2')\n",
        "    plt.title(f'Distribución de Churn según {col}', fontsize=12)\n",
        "    plt.xlabel(col, fontsize=10)\n",
        "    plt.ylabel('Cantidad de Clientes', fontsize=10)\n",
        "    plt.xticks(rotation=45)\n",
        "\n",
        "plt.tight_layout()  # Ajusta el espacio entre los gráficos\n",
        "plt.show()\n"
      ],
      "metadata": {
        "id": "YOiyF1IZfGbj"
      }
    },
    {
      "cell_type": "code",
      "source": [
        "# Listado de columnas categóricas relevantes\n",
        "columnas_categoricas = [\n",
        "    'gender', 'Partner', 'Dependents', 'Contract', 'PaymentMethod', 'InternetService',\n",
        "    'OnlineSecurity', 'OnlineBackup', 'DeviceProtection', 'TechSupport', 'StreamingTV', 'StreamingMovies'\n",
        "]\n",
        "\n",
        "# Crear gráficos de barras para cada variable categórica vs Churn\n",
        "plt.figure(figsize=(16, 16))\n",
        "for i, col in enumerate(columnas_categoricas, 1):\n",
        "    plt.subplot(4, 3, i)  # 4 filas, 3 columnas de gráficos\n",
        "    sns.countplot(data=datos, x=col, hue='Churn', palette='Set2')\n",
        "    plt.title(f'Distribución de Churn según {col}', fontsize=12)\n",
        "    plt.xlabel(col, fontsize=10)\n",
        "    plt.ylabel('Cantidad de Clientes', fontsize=10)\n",
        "    plt.xticks(rotation=45)\n",
        "\n",
        "plt.tight_layout()  # Ajusta el espacio entre los gráficos\n",
        "plt.show()\n"
      ],
      "metadata": {
        "colab": {
          "base_uri": "https://localhost:8080/",
          "height": 1000
        },
        "id": "Npe1N063fJEJ",
        "outputId": "80361490-0a2b-41a8-ccb0-0d0d33b7011b"
      },
      "execution_count": 37,
      "outputs": [
        {
          "output_type": "display_data",
          "data": {
            "text/plain": [
              "<Figure size 1600x1600 with 12 Axes>"
            ],
            "image/png": "[encoded data removed]"
          },
          "metadata": {}
        }
      ]
    },
    {
      "cell_type": "markdown",
      "source": [
        "Observaciones posibles:\n",
        "\n",
        "Contract:\n",
        "\n",
        "Los clientes con contrato mensual (Month-to-month) tienen una mayor evasión (Churn = 1), lo que es esperado ya que es más fácil para ellos cancelar sin penalización.\n",
        "\n",
        "Los clientes con contratos a largo plazo (1 o 2 años) tienden a permanecer más tiempo.\n",
        "\n",
        "PaymentMethod:\n",
        "\n",
        "Los clientes que pagan mediante cheques electrónicos (Electronic check) parecen tener una mayor tasa de evasión, lo que puede indicar que este método de pago es asociado a clientes menos comprometidos o que no tienen un método de pago más automático (como tarjeta de crédito o transferencia bancaria).\n",
        "\n",
        "InternetService:\n",
        "\n",
        "Los clientes con Internet DSL o Fiber optic tienen una mayor probabilidad de quedarse (Churn = 0).\n",
        "\n",
        "Los clientes con sin servicio de Internet (No) tienen mayor evasión, lo que sugiere que los clientes sin acceso a Internet pueden estar más propensos a cancelar.\n",
        "\n",
        "OnlineSecurity, OnlineBackup, DeviceProtection:\n",
        "\n",
        "Los clientes que no tienen estos servicios adicionales (como protección en línea o respaldo) parecen ser más propensos a irse.\n",
        "\n",
        "Esto sugiere que estos servicios adicionales podrían estar relacionados con la fidelización de los clientes."
      ],
      "metadata": {
        "id": "DxSb9yXUfcLE"
      }
    },
    {
      "cell_type": "markdown",
      "source": [
        "#Conteo de evasión por variables numéricas\n",
        "En este paso, explora cómo las variables numéricas, como \"total gastado\" o \"tiempo de contrato\", se distribuyen entre los clientes que cancelaron (evasión) y los que no cancelaron.\n",
        "\n",
        "Este análisis ayuda a entender si ciertos valores numéricos están más asociados con la evasión, proporcionando insights sobre los factores que influyen en el comportamiento de los clientes."
      ],
      "metadata": {
        "id": "7Os5Mkc4foT0"
      }
    },
    {
      "cell_type": "markdown",
      "source": [
        "#Código en Colab para visualizar la distribución de variables numéricas entre Churn = 0 y Churn = 1"
      ],
      "metadata": {
        "id": "hTER5EYGielw"
      }
    },
    {
      "cell_type": "markdown",
      "source": [
        "# Tamaño de la figura\n",
        "plt.figure(figsize=(14, 6))\n",
        "\n",
        "# Gráfico de boxplot para \"Factura_Total\" (Total gastado) vs \"Churn\"\n",
        "plt.subplot(1, 2, 1)\n",
        "sns.boxplot(data=datos, x='Churn', y='Factura_Total', palette='Set2')\n",
        "plt.title('Distribución de Factura Total según Churn', fontsize=14)\n",
        "plt.xlabel('Churn (0 = No se fue, 1 = Se fue)', fontsize=12)\n",
        "plt.ylabel('Factura Total', fontsize=12)"
      ],
      "metadata": {
        "id": "8lTQeLg5jk-P"
      }
    },
    {
      "cell_type": "code",
      "source": [
        "# Tamaño de la figura\n",
        "plt.figure(figsize=(14, 6))\n",
        "\n",
        "# Gráfico de boxplot para \"Factura_Total\" (Total gastado) vs \"Churn\"\n",
        "plt.subplot(1, 2, 1)\n",
        "sns.boxplot(data=datos, x='Churn', y='Factura_Total', palette='Set2')\n",
        "plt.title('Distribución de Factura Total según Churn', fontsize=14)\n",
        "plt.xlabel('Churn (0 = No se fue, 1 = Se fue)', fontsize=12)\n",
        "plt.ylabel('Factura Total', fontsize=12)"
      ],
      "metadata": {
        "colab": {
          "base_uri": "https://localhost:8080/",
          "height": 674
        },
        "id": "zMZNanLmjl30",
        "outputId": "0b0aec9f-48cb-4559-df10-1ab5ccd0abde"
      },
      "execution_count": 39,
      "outputs": [
        {
          "output_type": "stream",
          "name": "stderr",
          "text": [
            "/tmp/ipython-input-3309097871.py:6: FutureWarning: \n",
            "\n",
            "Passing `palette` without assigning `hue` is deprecated and will be removed in v0.14.0. Assign the `x` variable to `hue` and set `legend=False` for the same effect.\n",
            "\n",
            "  sns.boxplot(data=datos, x='Churn', y='Factura_Total', palette='Set2')\n"
          ]
        },
        {
          "output_type": "execute_result",
          "data": {
            "text/plain": [
              "Text(0, 0.5, 'Factura Total')"
            ]
          },
          "metadata": {},
          "execution_count": 39
        },
        {
          "output_type": "display_data",
          "data": {
            "text/plain": [
              "<Figure size 1400x600 with 1 Axes>"
            ],
            "image/png": "[encoded data removed]"
          },
          "metadata": {}
        }
      ]
    },
    {
      "cell_type": "markdown",
      "source": [
        "# Gráfico de boxplot para \"Meses_Contrato\" (Tiempo de contrato) vs \"Churn\"\n",
        "plt.subplot(1, 2, 2)\n",
        "sns.boxplot(data=datos, x='Churn', y='Meses_Contrato', palette='Set2')\n",
        "plt.title('Distribución de Meses de Contrato según Churn', fontsize=14)\n",
        "plt.xlabel('Churn (0 = No se fue, 1 = Se fue)', fontsize=12)\n",
        "plt.ylabel('Meses de Contrato', fontsize=12)\n",
        "\n",
        "plt.tight_layout()  # Ajustar el espacio entre los gráficos\n",
        "plt.show()"
      ],
      "metadata": {
        "id": "9FNaFLC8kQC9"
      }
    },
    {
      "cell_type": "code",
      "source": [
        "# Gráfico de boxplot para \"Meses_Contrato\" (Tiempo de contrato) vs \"Churn\"\n",
        "plt.subplot(1, 2, 2)\n",
        "sns.boxplot(data=datos, x='Churn', y='Meses_Contrato', palette='Set2')\n",
        "plt.title('Distribución de Meses de Contrato según Churn', fontsize=14)\n",
        "plt.xlabel('Churn (0 = No se fue, 1 = Se fue)', fontsize=12)\n",
        "plt.ylabel('Meses de Contrato', fontsize=12)\n",
        "\n",
        "plt.tight_layout()  # Ajustar el espacio entre los gráficos\n",
        "plt.show()"
      ],
      "metadata": {
        "colab": {
          "base_uri": "https://localhost:8080/",
          "height": 574
        },
        "id": "wwJJ0MxWkTYN",
        "outputId": "ceecf8ac-bdc5-4cb5-e65b-6df4b3644980"
      },
      "execution_count": 40,
      "outputs": [
        {
          "output_type": "stream",
          "name": "stderr",
          "text": [
            "/tmp/ipython-input-1430595669.py:3: FutureWarning: \n",
            "\n",
            "Passing `palette` without assigning `hue` is deprecated and will be removed in v0.14.0. Assign the `x` variable to `hue` and set `legend=False` for the same effect.\n",
            "\n",
            "  sns.boxplot(data=datos, x='Churn', y='Meses_Contrato', palette='Set2')\n"
          ]
        },
        {
          "output_type": "display_data",
          "data": {
            "text/plain": [
              "<Figure size 640x480 with 1 Axes>"
            ],
            "image/png": "[encoded data removed]"
          },
          "metadata": {}
        }
      ]
    },
    {
      "cell_type": "markdown",
      "source": [
        "#Informe final\n",
        "\n",
        "# Informe de Análisis de Evasión de Clientes (Churn)\n",
        "\n",
        "## 🔹 Introducción\n",
        "\n",
        "El objetivo principal de este análisis es identificar patrones de **evasión de clientes (Churn)** en una empresa proveedora de servicios. El churn es un fenómeno crítico en muchas industrias, ya que se refiere a la tasa a la que los clientes dejan de utilizar un servicio. Comprender los factores que contribuyen a la evasión de clientes puede ayudar a la empresa a desarrollar estrategias más efectivas para retenerlos, mejorar la satisfacción del cliente y reducir la rotación.\n",
        "\n",
        "Este informe explora los datos de clientes, su comportamiento de evasión, y cómo diferentes características (como tipo de contrato, servicios contratados, y comportamiento de pago) afectan a esta evasión.\n",
        "\n",
        "---\n",
        "\n",
        "## 🔹 Limpieza y Tratamiento de Datos\n",
        "\n",
        "### **Pasos Realizados**:\n",
        "1. **Importación de los Datos**: Los datos fueron importados desde un archivo JSON que contenía información sobre los clientes, sus servicios contratados, el total gastado y su estatus de evasión (`Churn`).\n",
        "\n",
        "2. **Aplanado de Estructura**: Se utilizó `json_normalize()` para aplanar las columnas anidadas y estructurarlas de manera más accesible.\n",
        "\n",
        "3. **Renombrado de Columnas**: Se renombraron las columnas para eliminar prefijos innecesarios y alinearlas con los nombres más claros del diccionario, facilitando su interpretación (por ejemplo, `Charges.Monthly` a `Factura_Mensual`).\n",
        "\n",
        "4. **Transformación de Datos Categóricos**: Las variables **`Yes/No`** fueron transformadas a **binarios** (1 y 0), lo que facilita el análisis y la posterior aplicación de modelos de predicción.\n",
        "\n",
        "5. **Creación de Nueva Columna**: Se añadió la columna `Cuentas_Diarias` para convertir el total mensual gastado en un valor diario, lo que permite una visión más detallada del comportamiento de los clientes.\n",
        "\n",
        "---\n",
        "\n",
        "## 🔹 Análisis Exploratorio de Datos\n",
        "\n",
        "### **Distribución de Churn**:\n",
        "Se exploró la distribución de la variable objetivo **`Churn`**, que indica si un cliente ha dejado de utilizar el servicio. El gráfico de barras mostró que una **porción significativa de clientes** se quedó con la empresa, mientras que un porcentaje relevante **se dio de baja**.\n",
        "\n",
        "#### Visualización de la distribución de `Churn`:\n",
        "![Distribución de Churn](image1.png)\n",
        "\n",
        "### **Análisis de Variables Categóricas**:\n",
        "Se analizaron varias variables categóricas para observar cómo se distribuyen entre los clientes que se fueron (`Churn = 1`) y los que se quedaron (`Churn = 0`), como por ejemplo:\n",
        "- **`Contract`**: Los clientes con contratos mensuales tienen una mayor tasa de evasión, mientras que los de contratos largos permanecen más tiempo.\n",
        "- **`PaymentMethod`**: Los clientes que pagan mediante **cheques electrónicos** presentan una mayor tasa de evasión.\n",
        "- **`InternetService`**: Los clientes con acceso a **Internet DSL** o **Fiber optic** tienen menor evasión.\n",
        "\n",
        "#### Visualización de Churn según contrato:\n",
        "![Distribución de Churn según Contract](image2.png)\n",
        "\n",
        "#### Visualización de Churn según tipo de pago:\n",
        "![Distribución de Churn según PaymentMethod](image3.png)\n",
        "\n",
        "### **Análisis de Variables Numéricas**:\n",
        "Se analizaron variables como **`Factura_Total`** y **`Meses_Contrato`**:\n",
        "- **`Factura_Total`**: Los clientes que gastan más tienden a quedarse más, mientras que aquellos con un gasto bajo tienen mayor tasa de evasión.\n",
        "- **`Meses_Contrato`**: Los clientes con más **tiempo de contrato** (antigüedad) tienden a permanecer más tiempo con la empresa.\n",
        "\n",
        "#### Visualización de `Factura_Total` y `Meses_Contrato`:\n",
        "![Distribución de Factura Total y Meses de Contrato](image4.png)\n",
        "\n",
        "---\n",
        "\n",
        "## 🔹 Conclusiones e Insights\n",
        "\n",
        "A partir del análisis, se observan varios patrones clave:\n",
        "\n",
        "1. **Clientes con contrato mensual** son más propensos a cancelar el servicio.\n",
        "2. Los clientes con **métodos de pago como cheque electrónico** tienen una **mayor tasa de evasión** en comparación con otros métodos de pago más automáticos.\n",
        "3. Los clientes con **menos antigüedad (Meses_Contrato)** tienen una mayor **probabilidad de cancelar el servicio**.\n",
        "4. Los clientes con un **alto gasto mensual** tienden a quedarse más tiempo, lo que sugiere que el **gasto más alto está asociado con mayor lealtad**.\n",
        "\n",
        "---\n",
        "\n",
        "## 🔹 Recomendaciones\n",
        "\n",
        "Con base en los insights obtenidos, algunas **acciones estratégicas** para reducir la evasión de clientes podrían ser:\n",
        "\n",
        "1. **Mejorar la retención de clientes con contrato mensual**: Ofrecer **descuentos o beneficios adicionales** para los clientes que firmen contratos más largos (1 o 2 años).\n",
        "   \n",
        "2. **Fomentar métodos de pago automáticos**: Incentivar a los clientes a utilizar **tarjetas de crédito** o **transferencias bancarias automáticas** en lugar de cheques electrónicos, que parecen estar vinculados a una mayor evasión.\n",
        "\n",
        "3. **Identificar clientes con bajo gasto y alta evasión**: Realizar un análisis más detallado para aquellos clientes que gastan poco pero tienen un alto riesgo de evasión y ofrecerles **beneficios personalizados**.\n",
        "\n",
        "4. **Aumentar la fidelidad de clientes con menos antigüedad**: Ofrecer incentivos para los **clientes nuevos** que se queden por más tiempo, como una **mejor calidad de servicio** o **descuentos exclusivos**.\n",
        "\n",
        "---\n",
        "\n"
      ],
      "metadata": {
        "id": "Vbl7B6Oukdq7"
      }
    }
  ]
}